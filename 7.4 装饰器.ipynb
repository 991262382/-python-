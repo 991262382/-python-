{
 "cells": [
  {
   "cell_type": "code",
   "execution_count": 1,
   "metadata": {},
   "outputs": [
    {
     "name": "stdout",
     "output_type": "stream",
     "text": [
      "2020-01-14\n"
     ]
    }
   ],
   "source": [
    "def now():\n",
    "    print('2020-01-14')\n",
    "f = now\n",
    "f()"
   ]
  },
  {
   "cell_type": "code",
   "execution_count": 2,
   "metadata": {},
   "outputs": [
    {
     "data": {
      "text/plain": [
       "'now'"
      ]
     },
     "execution_count": 2,
     "metadata": {},
     "output_type": "execute_result"
    },
    {
     "data": {
      "text/plain": [
       "'now'"
      ]
     },
     "execution_count": 2,
     "metadata": {},
     "output_type": "execute_result"
    }
   ],
   "source": [
    "now.__name__\n",
    "f.__name__"
   ]
  },
  {
   "cell_type": "code",
   "execution_count": 90,
   "metadata": {},
   "outputs": [
    {
     "name": "stdout",
     "output_type": "stream",
     "text": [
      "call now()\n",
      "2020-01-14\n"
     ]
    }
   ],
   "source": [
    "# 装饰器：返回函数的高阶函数\n",
    "import functools\n",
    "def log(func):\n",
    "    @functools.wraps(func)\n",
    "    def wrapper(*args,**kw):\n",
    "        print(f'call {func.__name__}()')\n",
    "        return func(*args,**kw)\n",
    "    return wrapper\n",
    "\n",
    "@log #now = log(now)\n",
    "def now():\n",
    "    print('2020-01-14')\n",
    "\n",
    "now()"
   ]
  },
  {
   "cell_type": "code",
   "execution_count": 5,
   "metadata": {},
   "outputs": [
    {
     "name": "stdout",
     "output_type": "stream",
     "text": [
      "执行 now()\n",
      "2020-01-14\n"
     ]
    }
   ],
   "source": [
    "import functools\n",
    "def log(text):\n",
    "    def decorator(func):\n",
    "        @functools.wraps(func)\n",
    "        def wrapper(*args,**kw):\n",
    "            print(f'{text} {func.__name__}()')\n",
    "            return func(*args,**kw)\n",
    "        return wrapper\n",
    "    return decorator\n",
    "\n",
    "@log('执行') #now = log('执行')(now) 第一步: log = log('执行') 第二步: now = log(now)\n",
    "def now():\n",
    "    print('2020-01-14')\n",
    "\n",
    "now()"
   ]
  },
  {
   "cell_type": "code",
   "execution_count": 6,
   "metadata": {},
   "outputs": [
    {
     "data": {
      "text/plain": [
       "'now'"
      ]
     },
     "execution_count": 6,
     "metadata": {},
     "output_type": "execute_result"
    }
   ],
   "source": [
    "now.__name__"
   ]
  },
  {
   "cell_type": "markdown",
   "metadata": {},
   "source": [
    "### 外站学习"
   ]
  },
  {
   "cell_type": "code",
   "execution_count": 46,
   "metadata": {},
   "outputs": [],
   "source": [
    "# 函数作为返回值\n",
    "def foo():\n",
    "    return 1\n",
    "\n",
    "def bar():\n",
    "    return foo"
   ]
  },
  {
   "cell_type": "code",
   "execution_count": 47,
   "metadata": {},
   "outputs": [
    {
     "name": "stdout",
     "output_type": "stream",
     "text": [
      "<function foo at 0x633426830>\n"
     ]
    }
   ],
   "source": [
    "print(bar())"
   ]
  },
  {
   "cell_type": "code",
   "execution_count": 48,
   "metadata": {},
   "outputs": [
    {
     "data": {
      "text/plain": [
       "1"
      ]
     },
     "execution_count": 48,
     "metadata": {},
     "output_type": "execute_result"
    }
   ],
   "source": [
    "bar()()"
   ]
  },
  {
   "cell_type": "code",
   "execution_count": 49,
   "metadata": {},
   "outputs": [
    {
     "data": {
      "text/plain": [
       "4"
      ]
     },
     "execution_count": 49,
     "metadata": {},
     "output_type": "execute_result"
    }
   ],
   "source": [
    "# 函数作为参数\n",
    "def bar(func):\n",
    "    return func(3)\n",
    "\n",
    "def foo(num):\n",
    "    return num + 1\n",
    "\n",
    "bar(foo)"
   ]
  },
  {
   "cell_type": "code",
   "execution_count": 74,
   "metadata": {},
   "outputs": [
    {
     "name": "stdout",
     "output_type": "stream",
     "text": [
      "1\n"
     ]
    }
   ],
   "source": [
    "# 函数的嵌套，及一个函数定义在另一个函数中\n",
    "def outer():\n",
    "    x = 1\n",
    "    def inner():\n",
    "        print(x)\n",
    "    inner()\n",
    "\n",
    "outer()"
   ]
  },
  {
   "cell_type": "code",
   "execution_count": 83,
   "metadata": {},
   "outputs": [
    {
     "name": "stdout",
     "output_type": "stream",
     "text": [
      "<function outer.<locals>.inner at 0x632585a70>\n",
      "1\n"
     ]
    }
   ],
   "source": [
    "# 闭包\n",
    "def outer(x):\n",
    "    def inner():\n",
    "        print(x)\n",
    "    return inner\n",
    "closure = outer(1)\n",
    "print(closure) # 这里的closure就是一个闭包\n",
    "closure()"
   ]
  },
  {
   "cell_type": "code",
   "execution_count": 89,
   "metadata": {},
   "outputs": [
    {
     "name": "stdout",
     "output_type": "stream",
     "text": [
      "<function log.<locals>.wrapper at 0x11b149440>\n",
      "记录日志开始\n",
      "foo\n",
      "记录日志结束\n"
     ]
    }
   ],
   "source": [
    "def log(func):\n",
    "    def wrapper(*args,**kw):\n",
    "        print('记录日志开始')\n",
    "        func(*args,**kw)\n",
    "        print('记录日志结束')\n",
    "    return wrapper\n",
    "\n",
    "\n",
    "def foo():\n",
    "    print('foo')\n",
    "foo = log(foo)\n",
    "print(foo)\n",
    "foo()"
   ]
  },
  {
   "cell_type": "code",
   "execution_count": 120,
   "metadata": {},
   "outputs": [
    {
     "data": {
      "text/plain": [
       "'<p>MKL</p>'"
      ]
     },
     "execution_count": 120,
     "metadata": {},
     "output_type": "execute_result"
    }
   ],
   "source": [
    "def add(tag):\n",
    "    def decorator(func):\n",
    "        def wrapper(*args,**kw):\n",
    "            return f'<{tag}>' + func(*args,**kw) + f'</{tag}>'\n",
    "        return wrapper\n",
    "    return decorator\n",
    "@add('p')\n",
    "def my_upper(text):\n",
    "    return text.upper()\n",
    "my_upper('mkl')"
   ]
  },
  {
   "cell_type": "code",
   "execution_count": 118,
   "metadata": {},
   "outputs": [
    {
     "name": "stdout",
     "output_type": "stream",
     "text": [
      "49999995000000\n",
      "runtime:0.6030759811401367\n"
     ]
    }
   ],
   "source": [
    "\n",
    "def time(func):\n",
    "    import time\n",
    "    def wrapper(*args,**kw):\n",
    "        start = time.time()\n",
    "        func(*args,**kw)\n",
    "        end = time.time()\n",
    "        return f'runtime:{end-start}'\n",
    "    return wrapper\n",
    "@time\n",
    "def test():\n",
    "    sum = 0\n",
    "    for i in range(10**7):\n",
    "        sum += i\n",
    "    print(sum)\n",
    "print(test())\n",
    "\n",
    "@time\n",
    "def test2():\n",
    "    sum = 0\n",
    "    total = [sum + i for i in range(10**7)]\n",
    "    print(total)"
   ]
  },
  {
   "cell_type": "markdown",
   "metadata": {},
   "source": [
    "## 类装饰器"
   ]
  },
  {
   "cell_type": "code",
   "execution_count": 126,
   "metadata": {},
   "outputs": [
    {
     "name": "stdout",
     "output_type": "stream",
     "text": [
      "call start\n",
      "foo\n",
      "123\n",
      "call end\n"
     ]
    }
   ],
   "source": [
    "class cls():\n",
    "    def __init__(self,func):\n",
    "        self._func = func\n",
    "    \n",
    "    def __call__(self):\n",
    "        print('call start')\n",
    "        print(self._func.__name__)\n",
    "        self._func()\n",
    "        print('call end')\n",
    "\n",
    "\n",
    "@cls\n",
    "def foo():\n",
    "    print('123')\n",
    "foo()"
   ]
  },
  {
   "cell_type": "code",
   "execution_count": null,
   "metadata": {},
   "outputs": [],
   "source": []
  }
 ],
 "metadata": {
  "kernelspec": {
   "display_name": "Python 3",
   "language": "python",
   "name": "python3"
  },
  "language_info": {
   "codemirror_mode": {
    "name": "ipython",
    "version": 3
   },
   "file_extension": ".py",
   "mimetype": "text/x-python",
   "name": "python",
   "nbconvert_exporter": "python",
   "pygments_lexer": "ipython3",
   "version": "3.7.5"
  }
 },
 "nbformat": 4,
 "nbformat_minor": 4
}
