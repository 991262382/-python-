{
 "cells": [
  {
   "cell_type": "code",
   "execution_count": 6,
   "metadata": {},
   "outputs": [
    {
     "name": "stdout",
     "output_type": "stream",
     "text": [
      "Dog正在跑\n",
      "Dog正在吃\n",
      "Cat正在跑\n"
     ]
    }
   ],
   "source": [
    "class Animal:\n",
    "    def run(self):\n",
    "        print('Animal正在跑')\n",
    "\n",
    "class Dog(Animal):\n",
    "    def run(self):\n",
    "        print('Dog正在跑')\n",
    "    \n",
    "    def eat(self):\n",
    "        print('Dog正在吃')\n",
    "\n",
    "class Cat(Animal):\n",
    "    def run(self):\n",
    "        print('Cat正在跑')\n",
    "\n",
    "d = Dog()\n",
    "d.run()\n",
    "d.eat()\n",
    "\n",
    "c = Cat()\n",
    "c.run()"
   ]
  },
  {
   "cell_type": "code",
   "execution_count": 9,
   "metadata": {},
   "outputs": [
    {
     "name": "stdout",
     "output_type": "stream",
     "text": [
      "Cat正在跑\n",
      "Cat正在跑\n"
     ]
    }
   ],
   "source": [
    "def run_twice(animal):\n",
    "    animal.run()\n",
    "    animal.run()\n",
    "\n",
    "a = Animal()\n",
    "d = Dog()\n",
    "c = Cat()\n",
    "\n",
    "run_twice(c)"
   ]
  },
  {
   "cell_type": "code",
   "execution_count": 11,
   "metadata": {},
   "outputs": [
    {
     "name": "stdout",
     "output_type": "stream",
     "text": [
      "Cat is running...\n",
      "Cat is running...\n",
      "__main__\n",
      "Animal is running...\n",
      "__main__\n",
      "Animal is running...\n",
      "people do not extends Animal\n",
      "people do not extends Animal\n"
     ]
    }
   ],
   "source": [
    "class Animal(object):\n",
    "    def run(self):\n",
    "        print(self.__module__)\n",
    "        print('Animal is running...')\n",
    "class Dog(Animal):\n",
    "    def run(self):\n",
    "        print('Dog is running...')\n",
    "class Cat(Animal):\n",
    "    def run(self):\n",
    "        print('Cat is running...')\n",
    "        \n",
    "class people():\n",
    "    def run(self):\n",
    "        print(\"people do not extends Animal\")\n",
    "        \n",
    "def run_twice(animal):\n",
    "    animal.run()\n",
    "    animal.run()\n",
    "    \n",
    "run_twice(Cat())\n",
    "run_twice(Animal())\n",
    "run_twice(people())"
   ]
  },
  {
   "cell_type": "code",
   "execution_count": null,
   "metadata": {},
   "outputs": [],
   "source": []
  }
 ],
 "metadata": {
  "kernelspec": {
   "display_name": "Python 3",
   "language": "python",
   "name": "python3"
  },
  "language_info": {
   "codemirror_mode": {
    "name": "ipython",
    "version": 3
   },
   "file_extension": ".py",
   "mimetype": "text/x-python",
   "name": "python",
   "nbconvert_exporter": "python",
   "pygments_lexer": "ipython3",
   "version": "3.7.5"
  }
 },
 "nbformat": 4,
 "nbformat_minor": 4
}
