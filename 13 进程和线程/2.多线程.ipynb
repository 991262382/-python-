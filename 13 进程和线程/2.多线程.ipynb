{
 "cells": [
  {
   "cell_type": "markdown",
   "metadata": {
    "Collapsed": "false"
   },
   "source": [
    "#### 启动一个线程就是把一个函数传入并创建Thread实例，然后调用start()开始执行："
   ]
  },
  {
   "cell_type": "code",
   "execution_count": 2,
   "metadata": {
    "Collapsed": "false"
   },
   "outputs": [
    {
     "name": "stdout",
     "output_type": "stream",
     "text": [
      "线程MainThread正在运行中...\n",
      "线程循环线程正在运行中...\n",
      "线程 循环线程 >>> 2\n",
      "线程 循环线程 >>> 3\n",
      "线程 循环线程 >>> 4\n",
      "线程 循环线程 >>> 5\n",
      "线程 循环线程 >>> 6\n",
      "线程循环线程结束了\n",
      "线程MainThread结束了\n"
     ]
    }
   ],
   "source": [
    "import threading, time\n",
    "\n",
    "# 线程执行代码\n",
    "def loop():\n",
    "    print(f\"线程{threading.current_thread().name}正在运行中...\")\n",
    "    n = 1\n",
    "    while n <= 5:\n",
    "        n += 1\n",
    "        print(f\"线程 {threading.current_thread().name} >>> {n}\")\n",
    "        time.sleep(1)\n",
    "    print(f\"线程{threading.current_thread().name}结束了\")\n",
    "\n",
    "\n",
    "print(f\"线程{threading.current_thread().name}正在运行中...\")\n",
    "\n",
    "t = threading.Thread(target=loop, name=\"循环线程\")\n",
    "t.start()\n",
    "t.join()\n",
    "\n",
    "print(f\"线程{threading.current_thread().name}结束了\")"
   ]
  },
  {
   "cell_type": "markdown",
   "metadata": {
    "Collapsed": "false",
    "slideshow": {
     "slide_type": "slide"
    }
   },
   "source": [
    "由于任何进程默认就会启动一个线程，我们把该线程称为主线程，主线程又可以启动新的线程，Python的threading模块有个current_thread()函数，它永远返回当前线程的实例"
   ]
  },
  {
   "cell_type": "markdown",
   "metadata": {
    "Collapsed": "false"
   },
   "source": [
    "## Lock\n",
    "#### 多进程中，每个变量在每个进程中各自有一个拷贝\n",
    "#### 多线程中，所有变量由所有线程共享"
   ]
  },
  {
   "cell_type": "code",
   "execution_count": 12,
   "metadata": {
    "Collapsed": "false"
   },
   "outputs": [
    {
     "name": "stdout",
     "output_type": "stream",
     "text": [
      "<Thread(Thread-14, initial)> <class 'threading.Thread'>\n",
      "<Thread(Thread-15, initial)>\n",
      "balance = 0\n"
     ]
    }
   ],
   "source": [
    "# 看看多线程同时操作对变量的影响\n",
    "import time, threading\n",
    "\n",
    "balance = 0  # 总存款\n",
    "\n",
    "\n",
    "def change_it(n):\n",
    "    # 现存 后取，结果应该为0\n",
    "    global balance\n",
    "    balance += n\n",
    "    balance -= n\n",
    "\n",
    "\n",
    "def run_thread(n):\n",
    "    for _ in range(100):\n",
    "        change_it(n)\n",
    "\n",
    "\n",
    "t1 = threading.Thread(target=run_thread, args=(5,))\n",
    "t2 = threading.Thread(target=run_thread, args=(8,))\n",
    "print(t1,type(t1))\n",
    "print(t2)\n",
    "t1.start()\n",
    "t2.start()\n",
    "t1.join()\n",
    "t2.join()\n",
    "print(f\"balance = {balance}\")"
   ]
  },
  {
   "cell_type": "markdown",
   "metadata": {
    "Collapsed": "false"
   },
   "source": [
    "两个线程同时一存一取，就可能导致余额不对，你肯定不希望你的银行存款莫名其妙地变成了负数，所以，我们必须确保一个线程在修改balance的时候，别的线程一定不能改。"
   ]
  },
  {
   "cell_type": "markdown",
   "metadata": {
    "Collapsed": "false"
   },
   "source": [
    "如果我们要确保balance计算正确，就要给change_it()上一把锁，当某个线程开始执行change_it()时，我们说，该线程因为获得了锁，因此其他线程不能同时执行change_it()，只能等待，直到锁被释放后，获得该锁以后才能改。由于锁只有一个，无论多少线程，同一时刻最多只有一个线程持有该锁，所以，不会造成修改的冲突。创建一个锁就是通过threading.Lock()来实现"
   ]
  },
  {
   "cell_type": "code",
   "execution_count": 13,
   "metadata": {
    "Collapsed": "false"
   },
   "outputs": [
    {
     "name": "stdout",
     "output_type": "stream",
     "text": [
      "balance = 0\n"
     ]
    }
   ],
   "source": [
    "import threading\n",
    "\n",
    "balance = 0\n",
    "lock = threading.Lock()\n",
    "\n",
    "\n",
    "def change_it(n):\n",
    "    # 现存 后取，结果应该为0\n",
    "    global balance\n",
    "    balance += n\n",
    "    balance -= n\n",
    "\n",
    "\n",
    "def run_thread(n):\n",
    "    for _ in range(1000000):\n",
    "        # 先要得到锁,锁只有一个，无论多少线程，同一时刻最多只有一个线程持有该锁，所以，不会造成修改的冲突\n",
    "        # 当多个线程同时执行lock.acquire()时，只有一个线程能成功地获取锁，然后继续执行代码，其他线程就继续等待直到获得锁为止。\n",
    "        lock.acquire()\n",
    "        try:\n",
    "            # 随意修改\n",
    "            change_it(n)\n",
    "        finally:\n",
    "            # 改完一定要释放锁\n",
    "            lock.release()\n",
    "\n",
    "\n",
    "t1 = threading.Thread(target=run_thread, args=(5,))\n",
    "t2 = threading.Thread(target=run_thread, args=(8,))\n",
    "t1.start()\n",
    "t2.start()\n",
    "t1.join()\n",
    "t2.join()\n",
    "print(f\"balance = {balance}\")"
   ]
  },
  {
   "cell_type": "markdown",
   "metadata": {
    "Collapsed": "false"
   },
   "source": [
    "锁的坏处: \n",
    "* 阻止了多线程并发执行\n",
    "* 多个线程持有不同的锁，并试图获得对方的锁，可能会造成死锁，导致多个线程全部挂起"
   ]
  },
  {
   "cell_type": "code",
   "execution_count": 6,
   "metadata": {
    "Collapsed": "false"
   },
   "outputs": [
    {
     "data": {
      "text/plain": [
       "4"
      ]
     },
     "execution_count": 6,
     "metadata": {},
     "output_type": "execute_result"
    }
   ],
   "source": [
    "import multiprocessing, threading\n",
    "\n",
    "multiprocessing.cpu_count()"
   ]
  },
  {
   "cell_type": "code",
   "execution_count": 7,
   "metadata": {
    "Collapsed": "false"
   },
   "outputs": [
    {
     "name": "stdout",
     "output_type": "stream",
     "text": [
      "Mainthread Start\n",
      "(Locked: True) Thread is 123145377230848...\n",
      "1\n",
      "2\n",
      "3\n",
      "4\n",
      "5\n",
      "6\n",
      "7\n",
      "8\n",
      "9\n",
      "10\n",
      "(Locked: True) Thread is 123145382486016...\n",
      "20\n",
      "30\n",
      "40\n",
      "50\n",
      "60\n",
      "70\n",
      "80\n",
      "90\n",
      "100\n",
      "110\n",
      "Mainthread Finished\n"
     ]
    }
   ],
   "source": [
    "import _thread\n",
    "import time\n",
    "\n",
    "# _thread创建的线程，在函数调用结束后会悄悄的退出，\n",
    "# 而且没有threading 线程的 join() 阻塞功能，所以主线程必须人为阻塞，否则效果不明显。\n",
    "\n",
    "\n",
    "def increase(inc, lock):\n",
    "    global balance\n",
    "    # _thread.TIMEOUT_MAX：参数 timeout 的最大值，超过抛出 OverflowError 异常\n",
    "    lock.acquire(timeout=_thread.TIMEOUT_MAX)\n",
    "\n",
    "    print(\n",
    "        \"(Locked: %s) Thread is %s...\" % (lock.locked(), _thread.get_ident())\n",
    "    )  # 锁状态 | 线程描述符\n",
    "    for i in range(10):\n",
    "        balance += inc\n",
    "        time.sleep(0.1)\n",
    "        print(balance)\n",
    "    lock.release()\n",
    "\n",
    "\n",
    "print(\"Mainthread Start\")\n",
    "balance = 0\n",
    "lock = _thread.allocate_lock()\n",
    "t1 = _thread.start_new_thread(increase, (1, lock))\n",
    "t2 = _thread.start_new_thread(increase, (10, lock))\n",
    "time.sleep(3)\n",
    "print(\"Mainthread Finished\")"
   ]
  },
  {
   "cell_type": "code",
   "execution_count": 9,
   "metadata": {
    "Collapsed": "false"
   },
   "outputs": [
    {
     "data": {
      "text/plain": [
       "0"
      ]
     },
     "execution_count": 9,
     "metadata": {},
     "output_type": "execute_result"
    }
   ],
   "source": []
  },
  {
   "cell_type": "code",
   "execution_count": null,
   "metadata": {
    "Collapsed": "false"
   },
   "outputs": [],
   "source": []
  }
 ],
 "metadata": {
  "kernelspec": {
   "display_name": "PyCharm (Code)",
   "language": "python",
   "name": "pycharm-6c12d93e"
  },
  "language_info": {
   "codemirror_mode": {
    "name": "ipython",
    "version": 3
   },
   "file_extension": ".py",
   "mimetype": "text/x-python",
   "name": "python",
   "nbconvert_exporter": "python",
   "pygments_lexer": "ipython3",
   "version": "3.7.4"
  },
  "toc-autonumbering": false
 },
 "nbformat": 4,
 "nbformat_minor": 4
}
