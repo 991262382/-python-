{
 "cells": [
  {
   "cell_type": "markdown",
   "metadata": {
    "Collapsed": "false",
    "toc-hr-collapsed": false
   },
   "source": [
    "# 进程与线程区别\n",
    "* 同一个进程中的线程共享同一内存空间，但是进程之间是独立的。\n",
    "* 同一个进程中的所有线程的数据是共享的（进程通讯），进程之间的数据是独立的。\n",
    "* 对主线程的修改可能会影响其他线程的行为，但是父进程的修改（除了删除以外）不会影响其他子进程。\n",
    "* 线程是一个上下文的执行指令，而进程则是与运算相关的一簇资源。\n",
    "* 同一个进程的线程之间可以直接通信，但是进程之间的交流需要借助中间代理来实现。\n",
    "* 创建新的线程很容易，但是创建新的进程需要对父进程做一次复制。\n",
    "* 一个线程可以操作同一进程的其他线程，但是进程只能操作其子进程。\n",
    "* 线程启动速度快，进程启动速度慢（但是两者运行速度没有可比性）。\n",
    "\n",
    "\n"
   ]
  },
  {
   "cell_type": "markdown",
   "metadata": {
    "Collapsed": "false"
   },
   "source": [
    "## Thread类\n",
    "### 1.普通创建方式"
   ]
  },
  {
   "cell_type": "code",
   "execution_count": 2,
   "metadata": {
    "Collapsed": "false"
   },
   "outputs": [
    {
     "name": "stdout",
     "output_type": "stream",
     "text": [
      "task:t1task:t2\n",
      "\n",
      "2s\n",
      "2s\n",
      "1s\n",
      "1s\n",
      "0s\n",
      "0s\n"
     ]
    }
   ],
   "source": [
    "import threading\n",
    "import time\n",
    "\n",
    "\n",
    "def run(n):\n",
    "    print(f\"task:{n}\")\n",
    "    time.sleep(1)\n",
    "    print(\"2s\")\n",
    "    time.sleep(1)\n",
    "    print(\"1s\")\n",
    "    time.sleep(1)\n",
    "    print(\"0s\")\n",
    "    time.sleep(1)\n",
    "\n",
    "\n",
    "t1 = threading.Thread(target=run, args=(\"t1\",))\n",
    "t2 = threading.Thread(target=run, args=(\"t2\",))\n",
    "t1.start()\n",
    "t2.start()\n",
    "t1.join()\n",
    "t2.join()"
   ]
  },
  {
   "cell_type": "markdown",
   "metadata": {
    "Collapsed": "false"
   },
   "source": [
    "### 继承threading.Thread 类自定义线程类"
   ]
  },
  {
   "cell_type": "code",
   "execution_count": 3,
   "metadata": {
    "Collapsed": "false"
   },
   "outputs": [
    {
     "name": "stdout",
     "output_type": "stream",
     "text": [
      "task:<MyThread(Thread-6, started 123145370406912)>\n",
      "task:<MyThread(Thread-7, started 123145375662080)>\n",
      "2s2s\n",
      "\n",
      "1s1s\n",
      "\n",
      "0s0s\n",
      "\n"
     ]
    }
   ],
   "source": [
    "import threading\n",
    "import time\n",
    "\n",
    "\n",
    "class MyThread(threading.Thread):\n",
    "    def __init__(self, n):\n",
    "        super(MyThread, self).__init__()  # 重构run函数必须要写\n",
    "        self.n = n\n",
    "\n",
    "    def run(n):\n",
    "        print(f\"task:{n}\")\n",
    "        time.sleep(1)\n",
    "        print(\"2s\")\n",
    "        time.sleep(1)\n",
    "        print(\"1s\")\n",
    "        time.sleep(1)\n",
    "        print(\"0s\")\n",
    "        time.sleep(1)\n",
    "\n",
    "\n",
    "if __name__ == \"__main__\":\n",
    "    #     t1 = threading.Thread(target=run,args=('t1',))\n",
    "    #     t2 = threading.Thread(target=run,args=('t2',))\n",
    "\n",
    "    t1 = MyThread(\"t1\")\n",
    "    t2 = MyThread(\"t2\")\n",
    "\n",
    "    t1.start()\n",
    "    t2.start()\n",
    "    t1.join()\n",
    "    t2.join()"
   ]
  },
  {
   "cell_type": "markdown",
   "metadata": {
    "Collapsed": "false"
   },
   "source": [
    "### 计算自线程的执行时间"
   ]
  },
  {
   "cell_type": "code",
   "execution_count": null,
   "metadata": {
    "Collapsed": "false"
   },
   "outputs": [],
   "source": [
    "join()  # 等此线程执行完后，再执行其他线程或主线程\n",
    "threading.current_thread()  # 输出当前线程"
   ]
  },
  {
   "cell_type": "code",
   "execution_count": 6,
   "metadata": {
    "Collapsed": "false"
   },
   "outputs": [
    {
     "name": "stdout",
     "output_type": "stream",
     "text": [
      "tasktask t-0 <Thread(Thread-14, started 123145370406912)>\n",
      " t-1 <Thread(Thread-15, started 123145375662080)>\n",
      "task t-2 <Thread(Thread-16, started 123145380917248)>\n",
      "3s3s3s\n",
      "\n",
      "\n",
      "2s2s2s\n",
      "\n",
      "\n",
      "1s1s\n",
      "\n",
      "cost:1s\n",
      " 3.0132899284362793\n"
     ]
    }
   ],
   "source": [
    "import threading\n",
    "import time\n",
    "\n",
    "\n",
    "def run(n):\n",
    "    print(\"task\", n, threading.current_thread())  # 输出当前的线程\n",
    "    time.sleep(1)\n",
    "    print(\"3s\")\n",
    "    time.sleep(1)\n",
    "    print(\"2s\")\n",
    "    time.sleep(1)\n",
    "    print(\"1s\")\n",
    "\n",
    "\n",
    "strat_time = time.time()\n",
    "\n",
    "t_obj = []  # 定义列表用于存放子线程实例\n",
    "\n",
    "for i in range(3):\n",
    "    t = threading.Thread(target=run, args=(\"t-%s\" % i,))\n",
    "    t.start()\n",
    "    t_obj.append(t)\n",
    "\n",
    "\"\"\"\n",
    "由主线程生成的三个子线程\n",
    "task t-0 <Thread(Thread-8, started 123145370406912)>\n",
    "task t-1 <Thread(Thread-9, started 123145375662080)>\n",
    "task t-2 <Thread(Thread-10, started 123145380917248)>\n",
    "\"\"\"\n",
    "\n",
    "for tmp in t_obj:\n",
    "    t.join()  # 为每个子线程添加join之后，主线程就会等这些子线程执行完之后再执行。\n",
    "\n",
    "print(\"cost:\", time.time() - strat_time)  # 主线程\n",
    "\n",
    "# print(threading.current_thread())  # 输出当前线程\n"
   ]
  },
  {
   "cell_type": "markdown",
   "metadata": {
    "Collapsed": "false"
   },
   "source": [
    "### 统计当前活跃的线程数"
   ]
  },
  {
   "cell_type": "code",
   "execution_count": 9,
   "metadata": {
    "Collapsed": "false"
   },
   "outputs": [
    {
     "name": "stdout",
     "output_type": "stream",
     "text": [
      "任务:t-0\n",
      "任务:t-1\n",
      "任务:t-2\n",
      "5\n"
     ]
    }
   ],
   "source": [
    "import threading\n",
    "import time\n",
    "\n",
    "def fun(n):\n",
    "    print(f'任务:{n}')\n",
    "    time.sleep(1)\n",
    "t = []\n",
    "for _ in range(3):\n",
    "    t.append(threading.Thread(target=fun,args=('t-%s'%_,)))\n",
    "    t[_].start()\n",
    "for _ in range(3):\n",
    "    t[_].join()\n",
    "time.sleep(5.5)\n",
    "print(threading.active_count()) #输出当前活跃的线程数"
   ]
  },
  {
   "cell_type": "markdown",
   "metadata": {
    "Collapsed": "false"
   },
   "source": [
    "## 事件(Event类)"
   ]
  },
  {
   "cell_type": "markdown",
   "metadata": {
    "Collapsed": "false"
   },
   "source": [
    "python线程的事件用于主线程控制其他线程的执行，事件是一个简单的线程同步对象，其主要提供以下几个方法：\n",
    "\n",
    "* 方法\t注释\n",
    "* clear\t将flag设置为“False”\n",
    "* set\t将flag设置为“True”\n",
    "* is_set\t判断是否设置了flag\n",
    "* wait\t会一直监听flag，如果没有检测到flag就一直处于阻塞状态\n",
    "* 事件处理的机制：全局定义了一个“Flag”，当flag值为“False”，那么event.wait()就会阻塞，当flag值为“True”，那么event.wait()便不再阻塞。"
   ]
  },
  {
   "cell_type": "code",
   "execution_count": 10,
   "metadata": {
    "Collapsed": "false"
   },
   "outputs": [
    {
     "name": "stdout",
     "output_type": "stream",
     "text": [
      "现在是绿灯['MINI'] 开动了...\n",
      "\n",
      "['MINI'] 开动了...现在是绿灯\n",
      "\n",
      "['MINI'] 开动了...现在是绿灯\n",
      "\n",
      "['MINI'] 开动了...现在是绿灯\n",
      "\n",
      "['MINI'] 开动了...\n",
      "现在是绿灯\n",
      "['MINI'] 开动了...现在是绿灯\n",
      "\n",
      "现在是红灯['MINI'] 看到红灯,等待中...\n",
      "\n",
      "现在是红灯\n",
      "现在是红灯\n",
      "现在是红灯\n",
      "现在是红灯\n",
      "['MINI'] 绿灯，请通行...\n",
      "['MINI'] 开动了...\n",
      "现在是绿灯['MINI'] 开动了...\n",
      "\n",
      "['MINI'] 开动了...\n",
      "现在是绿灯\n",
      "['MINI'] 开动了...现在是绿灯\n",
      "\n",
      "现在是绿灯['MINI'] 开动了...\n",
      "\n",
      "现在是绿灯['MINI'] 开动了...\n",
      "\n",
      "['MINI'] 开动了...现在是红灯\n",
      "\n",
      "['MINI'] 看到红灯,等待中...现在是红灯\n",
      "\n",
      "现在是红灯\n",
      "现在是红灯\n",
      "现在是红灯\n",
      "['MINI'] 绿灯，请通行...\n",
      "['MINI'] 开动了...\n",
      "现在是绿灯['MINI'] 开动了...\n",
      "\n",
      "现在是绿灯['MINI'] 开动了...\n",
      "\n",
      "现在是绿灯['MINI'] 开动了...\n",
      "\n",
      "['MINI'] 开动了...现在是绿灯\n",
      "\n",
      "现在是绿灯['MINI'] 开动了...\n",
      "\n"
     ]
    }
   ],
   "source": [
    "#利用Event类模拟红绿灯\n",
    "import threading\n",
    "import time\n",
    "\n",
    "event = threading.Event()\n",
    "\n",
    "\n",
    "def lighter():\n",
    "    count = 0\n",
    "    event.set()     #初始值为绿灯,flag设为True\n",
    "    while True:\n",
    "        if 5 < count <=10 :\n",
    "            event.clear()  # 红灯，清除标志位\n",
    "            print(\"现在是红灯\")\n",
    "        elif count > 10:\n",
    "            event.set()  # 绿灯，设置标志位\n",
    "            count = 0\n",
    "        else:\n",
    "            print(\"现在是绿灯\")\n",
    "\n",
    "        time.sleep(1)\n",
    "        count += 1\n",
    "\n",
    "def car(name):\n",
    "    while True:\n",
    "        if event.is_set():      #判断是否设置了标志位\n",
    "            print(f\"{[name]} 开动了...\")\n",
    "            time.sleep(1)\n",
    "        else:\n",
    "            print(f'{[name]} 看到红灯,等待中...')\n",
    "            event.wait() #监听flag直到为True\n",
    "            print(f\"{[name]} 绿灯，请通行...\")\n",
    "\n",
    "light = threading.Thread(target=lighter,)\n",
    "light.start()\n",
    "\n",
    "car = threading.Thread(target=car,args=(\"MINI\",))\n",
    "car.start()"
   ]
  },
  {
   "cell_type": "code",
   "execution_count": 1,
   "metadata": {
    "Collapsed": "false"
   },
   "outputs": [
    {
     "name": "stdout",
     "output_type": "stream",
     "text": [
      "end\n",
      "-->exec done: 100\n",
      "-->exec done: 101\n",
      "-->exec done: 102\n",
      "-->exec done: 103\n",
      "-->exec done: 104\n",
      "-->exec done: 106\n",
      "-->exec done: 105\n",
      "-->exec done: 107\n",
      "-->exec done: 108\n",
      "-->exec done: 109\n"
     ]
    }
   ],
   "source": [
    "from  multiprocessing import Process,Pool\n",
    "import time\n",
    " \n",
    "def Foo(i):\n",
    "    time.sleep(2)\n",
    "    return i+100\n",
    " \n",
    "def Bar(arg):\n",
    "    print('-->exec done:',arg)\n",
    " \n",
    "pool = Pool(5)  #允许进程池同时放入5个进程\n",
    " \n",
    "for i in range(10):\n",
    "    pool.apply_async(func=Foo, args=(i,),callback=Bar)  \n",
    "    #func子进程执行完后，才会执行callback，否则callback不执行（而且callback是由父进程来执行了）\n",
    "    #pool.apply(func=Foo, args=(i,))\n",
    " \n",
    "print('end')\n",
    "pool.close()\n",
    "pool.join() #主进程等待所有子进程执行完毕。必须在close()或terminate()之后。"
   ]
  },
  {
   "cell_type": "markdown",
   "metadata": {
    "Collapsed": "false"
   },
   "source": [
    "## 协程"
   ]
  },
  {
   "cell_type": "markdown",
   "metadata": {
    "Collapsed": "false"
   },
   "source": [
    "线程和进程的操作是由程序触发系统接口，最后的执行者是系统，它本质上是操作系统提供的功能。而协程的操作则是程序员指定的，在python中通过yield，人为的实现并发处理。\n",
    "\n",
    "协程存在的意义：对于多线程应用，CPU通过切片的方式来切换线程间的执行，线程切换时需要耗时。协程，则只使用一个线程，分解一个线程成为多个“微线程”，在一个线程中规定某个代码块的执行顺序。\n",
    "\n",
    "协程的适用场景：当程序中存在大量不需要CPU的操作时（IO）。\n",
    "常用第三方模块gevent和greenlet。（本质上，gevent是对greenlet的高级封装，因此一般用它就行，这是一个相当高效的模块。）"
   ]
  },
  {
   "cell_type": "code",
   "execution_count": 2,
   "metadata": {
    "Collapsed": "false"
   },
   "outputs": [
    {
     "name": "stdout",
     "output_type": "stream",
     "text": [
      "t1\n",
      "t2\n",
      "t1.gr2.switch()\n",
      "t2.gr1.switch()\n"
     ]
    }
   ],
   "source": [
    "from greenlet import greenlet\n",
    "\n",
    "def t1():\n",
    "    print('t1')\n",
    "    gr2.switch()\n",
    "    print('t1.gr2.switch()')\n",
    "    gr2.switch()\n",
    "\n",
    "def t2():\n",
    "    print('t2')\n",
    "    gr1.switch()\n",
    "    print('t2.gr1.switch()')\n",
    "\n",
    "gr1 = greenlet(t1)\n",
    "gr2 = greenlet(t2)\n",
    "gr1.switch()"
   ]
  },
  {
   "cell_type": "code",
   "execution_count": null,
   "metadata": {
    "Collapsed": "false"
   },
   "outputs": [],
   "source": [
    "# from gevent import monkey; monkey.patch_all()\n",
    "import gevent\n",
    "import requests\n",
    "\n",
    "def f(url):\n",
    "    print('GET: %s' % url)\n",
    "    resp = requests.get(url)\n",
    "    data = resp.text\n",
    "    print('%d bytes received from %s.' % (len(data), url))\n",
    "\n",
    "gevent.joinall([\n",
    "        gevent.spawn(f, 'https://www.python.org/'),\n",
    "        gevent.spawn(f, 'https://www.yahoo.com/'),\n",
    "        gevent.spawn(f, 'https://github.com/'),\n",
    "])\n"
   ]
  },
  {
   "cell_type": "code",
   "execution_count": null,
   "metadata": {
    "Collapsed": "false"
   },
   "outputs": [],
   "source": []
  }
 ],
 "metadata": {
  "kernelspec": {
   "display_name": "PyCharm (Code)",
   "language": "python",
   "name": "pycharm-6c12d93e"
  },
  "language_info": {
   "codemirror_mode": {
    "name": "ipython",
    "version": 3
   },
   "file_extension": ".py",
   "mimetype": "text/x-python",
   "name": "python",
   "nbconvert_exporter": "python",
   "pygments_lexer": "ipython3",
   "version": "3.7.4"
  }
 },
 "nbformat": 4,
 "nbformat_minor": 4
}
