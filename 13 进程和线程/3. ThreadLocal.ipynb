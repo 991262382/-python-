{
 "cells": [
  {
   "cell_type": "code",
   "execution_count": 3,
   "metadata": {
    "Collapsed": "false"
   },
   "outputs": [
    {
     "name": "stdout",
     "output_type": "stream",
     "text": [
      "你好,Alice(in 线程-A)\n",
      "你好,Bob(in 线程-B)\n"
     ]
    }
   ],
   "source": [
    "import threading\n",
    "\n",
    "# 创建全局ThreadLocal对象\n",
    "local_school = threading.local()\n",
    "\n",
    "\n",
    "def process_thread(name):\n",
    "    # 绑定ThreadLocal的student\n",
    "    local_school.student = name\n",
    "\n",
    "    # 获取当前线程关联的student\n",
    "    std = local_school.student\n",
    "    print(f\"你好,{std}(in {threading.current_thread().name})\")\n",
    "\n",
    "\n",
    "t1 = threading.Thread(target=process_thread, args=(\"Alice\",), name=\"线程-A\")\n",
    "t2 = threading.Thread(target=process_thread, args=(\"Bob\",), name=\"线程-B\")\n",
    "\n",
    "t1.start()\n",
    "t2.start()\n",
    "t1.join()\n",
    "t2.join()"
   ]
  },
  {
   "cell_type": "markdown",
   "metadata": {
    "Collapsed": "false"
   },
   "source": [
    "#### 全局变量local_school就是一个ThreadLocal对象,每个线程都可以读写student属性，但互不影响\n",
    "#### 将local_school理解全局变量，但每个属性如local_school.student都是线程的局部变量，可以任意读写而互不干扰，也不用管理锁的问题，ThreadLocal内部会处理。\n",
    "#### ThreadLocal最常用的地方就是为每个线程绑定一个数据库连接，HTTP请求，用户身份信息"
   ]
  },
  {
   "cell_type": "markdown",
   "metadata": {
    "Collapsed": "false"
   },
   "source": [
    "## 来自 https://selfboot.cn/2016/08/22/threadlocal_overview/ 的教程"
   ]
  },
  {
   "cell_type": "markdown",
   "metadata": {
    "Collapsed": "false"
   },
   "source": [
    "### 全局变量 & 局部变量"
   ]
  },
  {
   "cell_type": "code",
   "execution_count": 39,
   "metadata": {
    "Collapsed": "false"
   },
   "outputs": [
    {
     "name": "stdout",
     "output_type": "stream",
     "text": [
      "45742052080\n"
     ]
    }
   ],
   "source": [
    "import threading\n",
    "\n",
    "global_num = 0\n",
    "\n",
    "\n",
    "def call():\n",
    "    global global_num\n",
    "    for _ in range(100000):\n",
    "        global_num += _\n",
    "\n",
    "\n",
    "# 得到10个线程，运行他们并等待结束\n",
    "threads = []\n",
    "for _ in range(10):\n",
    "    threads.append(threading.Thread(target=call))\n",
    "    threads[_].start()\n",
    "\n",
    "for _ in range(10):\n",
    "    threads[_].join()\n",
    "\n",
    "print(global_num)"
   ]
  },
  {
   "cell_type": "code",
   "execution_count": 31,
   "metadata": {
    "Collapsed": "false"
   },
   "outputs": [
    {
     "data": {
      "text/plain": [
       "4999950000"
      ]
     },
     "execution_count": 31,
     "metadata": {},
     "output_type": "execute_result"
    }
   ],
   "source": [
    "from functools import reduce\n",
    "\n",
    "L = [i for i in range(100000)]\n",
    "reduce(lambda _1, _2: _1 + _2, L)"
   ]
  },
  {
   "cell_type": "code",
   "execution_count": 34,
   "metadata": {
    "Collapsed": "false"
   },
   "outputs": [
    {
     "name": "stdout",
     "output_type": "stream",
     "text": [
      "49999500000\n"
     ]
    }
   ],
   "source": [
    "# 对同一代码加锁 加锁\n",
    "import threading\n",
    "\n",
    "global_num = 0\n",
    "p = threading.Lock()\n",
    "\n",
    "def call():\n",
    "    global global_num\n",
    "    \n",
    "    for _ in range(100000):\n",
    "        global_num += _\n",
    "\n",
    "def call_lock():\n",
    "    p.acquire()\n",
    "    try:\n",
    "        call()\n",
    "    finally:\n",
    "        p.release()\n",
    "\n",
    "# 得到10个线程，运行他们并等待结束\n",
    "threads = []\n",
    "for _ in range(10):\n",
    "    threads.append(threading.Thread(target=call_lock))\n",
    "    threads[_].start()\n",
    "\n",
    "for _ in range(10):\n",
    "    threads[_].join()\n",
    "\n",
    "print(global_num)"
   ]
  },
  {
   "cell_type": "code",
   "execution_count": 37,
   "metadata": {
    "Collapsed": "false"
   },
   "outputs": [
    {
     "name": "stdout",
     "output_type": "stream",
     "text": [
      "4999950000 Thread-174\n",
      "4999950000 Thread-175\n",
      "4999950000 Thread-176\n",
      "4999950000 Thread-177\n",
      "4999950000 Thread-178\n",
      "4999950000 Thread-179\n",
      "4999950000 Thread-180\n",
      "4999950000 Thread-181\n",
      "4999950000 Thread-182\n",
      "4999950000 Thread-183\n"
     ]
    }
   ],
   "source": [
    "# 局部变量演示\n",
    "import threading\n",
    "\n",
    "def func():\n",
    "    局部变量 = 0\n",
    "    for _ in range(100000):\n",
    "        局部变量 += _\n",
    "    print(局部变量,threading.current_thread().name)\n",
    "\n",
    "\n",
    "threads = []\n",
    "for _ in range(10):\n",
    "    threads.append(threading.Thread(target=func))\n",
    "    threads[_].start()\n",
    "    threads[_].join()"
   ]
  },
  {
   "cell_type": "markdown",
   "metadata": {
    "Collapsed": "false"
   },
   "source": [
    "#### ThreadLocal 真正做到了线程隔离，并且不需要自己获取线程ID"
   ]
  },
  {
   "cell_type": "code",
   "execution_count": null,
   "metadata": {
    "Collapsed": "false"
   },
   "outputs": [],
   "source": []
  }
 ],
 "metadata": {
  "kernelspec": {
   "display_name": "PyCharm (Code)",
   "language": "python",
   "name": "pycharm-6c12d93e"
  },
  "language_info": {
   "codemirror_mode": {
    "name": "ipython",
    "version": 3
   },
   "file_extension": ".py",
   "mimetype": "text/x-python",
   "name": "python",
   "nbconvert_exporter": "python",
   "pygments_lexer": "ipython3",
   "version": "3.7.4"
  }
 },
 "nbformat": 4,
 "nbformat_minor": 4
}
