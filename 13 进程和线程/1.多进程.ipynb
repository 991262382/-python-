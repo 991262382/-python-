{
 "cells": [
  {
   "cell_type": "code",
   "execution_count": 2,
   "metadata": {
    "Collapsed": "false",
    "pycharm": {
     "is_executing": false
    }
   },
   "outputs": [
    {
     "name": "stdout",
     "output_type": "stream",
     "text": [
      "进程94723开始\n",
      "我94723只是创建了一个子进程94750\n",
      "我是子进程94750，我的父进程是94723\n"
     ]
    }
   ],
   "source": [
    "import os\n",
    "\n",
    "print(f\"进程{os.getpid()}开始\")\n",
    "pid = os.fork()  # 返回2次，父进程：返回子进程的ID，子进程：永远返回0\n",
    "\n",
    "if pid == 0:\n",
    "    print(f\"我是子进程{os.getpid()}，我的父进程是{os.getppid()}\")\n",
    "else:\n",
    "    print(f\"我{os.getpid()}只是创建了一个子进程{pid}\")"
   ]
  },
  {
   "cell_type": "code",
   "execution_count": 1,
   "metadata": {
    "Collapsed": "false",
    "pycharm": {
     "is_executing": false
    }
   },
   "outputs": [
    {
     "name": "stdout",
     "output_type": "stream",
     "text": [
      "父进程是10228\n",
      "子进程即将开始\n",
      "运行子进程test(10233)\n",
      "子进程结束\n"
     ]
    }
   ],
   "source": [
    "from multiprocessing import Process\n",
    "import os\n",
    "\n",
    "\n",
    "def run_proc(name):\n",
    "    print(f\"运行子进程{name}({os.getpid()})\")\n",
    "\n",
    "\n",
    "if __name__ == \"__main__\":\n",
    "    print(f\"父进程是{os.getpid()}\")\n",
    "    p = Process(target=run_proc, args=(\"test\",))\n",
    "    print(\"子进程即将开始\")\n",
    "    p.start()\n",
    "    p.join()  # 等待子进程结束并继续运行\n",
    "    print(\"子进程结束\")"
   ]
  },
  {
   "cell_type": "markdown",
   "metadata": {
    "Collapsed": "false",
    "jupyter": {
     "outputs_hidden": false
    },
    "pycharm": {
     "name": "#%%\n"
    }
   },
   "source": [
    "## Pool\n",
    "#### 如果要启动大量的子进程，可以用进程池的方式批量创建子进程：\n"
   ]
  },
  {
   "cell_type": "code",
   "execution_count": 10,
   "metadata": {
    "Collapsed": "false"
   },
   "outputs": [
    {
     "name": "stdout",
     "output_type": "stream",
     "text": [
      "父进程85469.\n",
      "运行任务0(93594)\n",
      "运行任务1(93595)\n",
      "等待所有子进程结束...\n",
      "任务0运行了1.176269769668579秒\n",
      "运行任务2(93594)\n",
      "任务1运行了2.551132917404175秒\n",
      "运行任务3(93595)\n",
      "任务2运行了1.9671962261199951秒\n",
      "运行任务4(93594)\n",
      "任务3运行了1.2021350860595703秒\n",
      "任务4运行了2.0198662281036377秒\n",
      "所有子进程已经结束\n"
     ]
    }
   ],
   "source": [
    "from multiprocessing import Pool\n",
    "import os, time, random\n",
    "\n",
    "\n",
    "def long_time_task(name):\n",
    "    print(f\"运行任务{name}({os.getpid()})\")\n",
    "    start = time.time()\n",
    "    time.sleep(random.random() * 3)\n",
    "    end = time.time()\n",
    "    print(f\"任务{name}运行了{end-start}秒\")\n",
    "\n",
    "\n",
    "if __name__ == \"__main__\":\n",
    "    print(f\"父进程{os.getpid()}.\")\n",
    "    p = Pool(2)\n",
    "    for i in range(5):\n",
    "        p.apply_async(long_time_task, args=(i,))\n",
    "    print(\"等待所有子进程结束...\")\n",
    "    p.close()\n",
    "    p.join()\n",
    "    print(\"所有子进程已经结束\")"
   ]
  },
  {
   "cell_type": "markdown",
   "metadata": {
    "Collapsed": "false"
   },
   "source": [
    "## 子进程\n",
    "#### 很多时候，子进程并不是自身，而是一个外部进程。我们创建了子进程后，还需要控制子进程的输入和输出。\n",
    "#### subprocess模块可以让我们非常方便地启动一个子进程，然后控制其输入和输出。\n",
    "#### 下面的例子演示了如何在Python代码中运行命令nslookup www.python.org，这和命令行直接运行的效果是一样的："
   ]
  },
  {
   "cell_type": "code",
   "execution_count": 12,
   "metadata": {
    "Collapsed": "false"
   },
   "outputs": [
    {
     "name": "stdout",
     "output_type": "stream",
     "text": [
      "$ nslookup www.python.org\n",
      "退出代码: 0\n"
     ]
    }
   ],
   "source": [
    "import subprocess\n",
    "\n",
    "print(\"$ nslookup www.python.org\")\n",
    "r = subprocess.call([\"nslookup\", \"www.python.org\"])\n",
    "print(\"退出代码:\", r)"
   ]
  },
  {
   "cell_type": "code",
   "execution_count": 14,
   "metadata": {
    "Collapsed": "false"
   },
   "outputs": [
    {
     "name": "stdout",
     "output_type": "stream",
     "text": [
      "$ nslookup\n",
      "Server:\t\t8.8.8.8\n",
      "Address:\t8.8.8.8#53\n",
      "\n",
      "Non-authoritative answer:\n",
      "python.org\tmail exchanger = 50 mail.python.org.\n",
      "\n",
      "Authoritative answers can be found from:\n",
      "\n",
      "\n",
      "Exit code: 0\n"
     ]
    }
   ],
   "source": [
    "import subprocess\n",
    "\n",
    "print(\"$ nslookup\")\n",
    "p = subprocess.Popen(\n",
    "    [\"nslookup\"], stdin=subprocess.PIPE, stdout=subprocess.PIPE, stderr=subprocess.PIPE\n",
    ")\n",
    "output, err = p.communicate(b\"set q=mx\\npython.org\\nexit\\n\")  # 手动输入\n",
    "print(output.decode(\"utf-8\"))\n",
    "print(\"Exit code:\", p.returncode)"
   ]
  },
  {
   "cell_type": "markdown",
   "metadata": {
    "Collapsed": "false"
   },
   "source": [
    "## 进程间通信\n",
    "#### Process之间肯定是需要通信的，操作系统提供了很多机制来实现进程间的通信。Python的multiprocessing模块包装了底层的机制，提供了Queue、Pipes等多种方式来交换数据。\n",
    "#### 我们以Queue为例，在父进程中创建两个子进程，一个往Queue里写数据，一个从Queue里读数据："
   ]
  },
  {
   "cell_type": "code",
   "execution_count": 15,
   "metadata": {
    "Collapsed": "false"
   },
   "outputs": [
    {
     "name": "stdout",
     "output_type": "stream",
     "text": [
      "处理写的进程:44711\n",
      "将A压入队列...\n",
      "处理读取的进程:44712\n",
      "从队列中获取A\n",
      "将B压入队列...\n",
      "从队列中获取B\n",
      "将C压入队列...\n",
      "从队列中获取C\n"
     ]
    }
   ],
   "source": [
    "from multiprocessing import Process, Queue\n",
    "import os, time, random\n",
    "\n",
    "\n",
    "def write(q):\n",
    "    print(f\"处理写的进程:{os.getpid()}\")\n",
    "    for value in [\"A\", \"B\", \"C\"]:\n",
    "        print(f\"将{value}压入队列...\")\n",
    "        q.put(value)\n",
    "        time.sleep(random.random())\n",
    "\n",
    "\n",
    "def read(q):\n",
    "    print(f\"处理读取的进程:{os.getpid()}\")\n",
    "    while True:\n",
    "        value = q.get(True)\n",
    "        print(f\"从队列中获取{value}\")\n",
    "\n",
    "\n",
    "if __name__ == \"__main__\":\n",
    "    # 父进程创建Queue,并传给各个子进程\n",
    "    q = Queue()\n",
    "    pw = Process(target=write, args=(q,))\n",
    "    pr = Process(target=read, args=(q,))\n",
    "\n",
    "    # 启动子进程pw,写入:\n",
    "    pw.start()\n",
    "\n",
    "    # 启动子进程pr,读取:\n",
    "    pr.start()\n",
    "\n",
    "    # 等待pw结束\n",
    "    pw.join()\n",
    "\n",
    "    # pr进程里是死循环，无法等待其结束，只能强行终止:\n",
    "    pr.terminate()"
   ]
  },
  {
   "cell_type": "markdown",
   "metadata": {
    "Collapsed": "false"
   },
   "source": [
    "## 小结\n",
    "#### 在Unix/Linux下，可以使用fork()调用实现多进程。\n",
    "\n",
    "#### 要实现跨平台的多进程，可以使用multiprocessing模块。\n",
    "\n",
    "#### 进程间通信是通过Queue、Pipes等实现的。"
   ]
  },
  {
   "cell_type": "code",
   "execution_count": 17,
   "metadata": {
    "Collapsed": "false",
    "collapsed": true,
    "jupyter": {
     "outputs_hidden": true
    }
   },
   "outputs": [
    {
     "name": "stdout",
     "output_type": "stream",
     "text": [
      "进程一   0\n",
      "进程二   0\n",
      "进程一   1\n",
      "进程二   1\n",
      "进程一   2\n",
      "进程二   2\n",
      "进程一   3\n",
      "进程二   3\n",
      "进程一   4\n",
      "进程二   4\n",
      "进程一   5\n",
      "进程二   5\n",
      "进程一   6\n",
      "进程二   6\n",
      "进程一   7\n",
      "进程二   7\n",
      "进程一   8\n",
      "进程二   8\n",
      "进程一   9\n",
      "进程二   9\n",
      "进程一   10\n",
      "进程二   10\n",
      "进程一   11\n",
      "进程二   11\n",
      "进程一   12\n",
      "进程二   12\n",
      "进程一   13\n",
      "进程二   13\n",
      "进程一   14\n",
      "进程二   14\n",
      "进程一   15\n",
      "进程二   15\n",
      "进程一   16\n",
      "进程二   16\n",
      "进程一   17\n",
      "进程二   17\n",
      "进程一   18\n",
      "进程二   18\n",
      "进程一   19\n",
      "进程二   19\n",
      "进程一   20\n",
      "进程二   20\n",
      "进程一   21\n",
      "进程二   21\n",
      "进程一   22\n",
      "进程二   22\n",
      "进程一   23\n",
      "进程二   23\n",
      "进程一   24\n",
      "进程二   24\n",
      "进程一   25\n",
      "进程二   25\n",
      "进程一   26\n",
      "进程二   26\n",
      "进程一   27\n",
      "进程二   27\n",
      "进程一   28\n",
      "进程二   28\n",
      "进程一   29\n",
      "进程二   29\n",
      "jc1,jc2任务都已执行完毕\n"
     ]
    }
   ],
   "source": [
    "from multiprocessing import Process\n",
    "import time\n",
    "\n",
    "\n",
    "def action(a):  # 待会两个进程要执行的任务↓\n",
    "    for i in range(30):  # 循环30次\n",
    "        print(a, \" \", i)\n",
    "        time.sleep(0.1)  # 等待0.1s\n",
    "\n",
    "\n",
    "if __name__ == \"__main__\":  # 这行代码很重要，新建进程的时候都加上它！！原因不用管（我也不知道233）\n",
    "\n",
    "    jc1 = Process(target=action, args=(\"进程一\",))\n",
    "    jc2 = Process(target=action, args=(\"进程二\",))\n",
    "\n",
    "    jc1.start()  # 将蓄势待发的jc1进程正式启动！！\n",
    "    jc2.start()  # 同上...\n",
    "\n",
    "    jc1.join()  # 等待进程jc1将任务执行完...\n",
    "    jc2.join()  # ...\n",
    "    print(\"jc1,jc2任务都已执行完毕\")\n",
    "\n",
    "    jc1.close()  # 彻底关闭进程jc1\n",
    "    jc2.close()  # ..."
   ]
  },
  {
   "cell_type": "code",
   "execution_count": 18,
   "metadata": {
    "Collapsed": "false",
    "scrolled": true
   },
   "outputs": [
    {
     "name": "stdout",
     "output_type": "stream",
     "text": [
      "进程一 --> 55896   0\n",
      "进程二 --> 55897   0\n",
      "进程三 --> 55898   0\n",
      "进程一 --> 55896   1\n",
      "进程三 --> 55898   1\n",
      "进程二 --> 55897   1\n",
      "进程一 --> 55896   2\n",
      "进程二 --> 55897   2\n",
      "进程三 --> 55898   2\n",
      "进程二 --> 55897   3\n",
      "进程三 --> 55898   3\n",
      "进程一 --> 55896   3\n",
      "进程三 --> 55898   4\n",
      "进程二 --> 55897   4\n",
      "进程一 --> 55896   4\n",
      "进程一 --> 55896   5\n",
      "进程二 --> 55897   5\n",
      "进程三 --> 55898   5\n",
      "进程一 --> 55896   6\n",
      "进程二 --> 55897   6\n",
      "进程三 --> 55898   6\n",
      "进程三 --> 55898   7\n",
      "进程一 --> 55896   7\n",
      "进程二 --> 55897   7\n",
      "进程三 --> 55898   8\n",
      "进程一 --> 55896   8\n",
      "进程二 --> 55897   8\n",
      "进程一 --> 55896   9\n",
      "进程二 --> 55897   9\n",
      "进程三 --> 55898   9\n",
      "进程二 --> 55897   10\n",
      "进程一 --> 55896   10\n",
      "进程三 --> 55898   10\n",
      "进程一 --> 55896   11\n",
      "进程三 --> 55898   11\n",
      "进程二 --> 55897   11\n",
      "进程三 --> 55898   12\n",
      "进程一 --> 55896   12\n",
      "进程二 --> 55897   12\n",
      "进程三 --> 55898   13\n",
      "进程二 --> 55897   13\n",
      "进程一 --> 55896   13\n",
      "进程一 --> 55896   14\n",
      "进程三 --> 55898   14\n",
      "进程二 --> 55897   14\n",
      "进程二 --> 55897   15\n",
      "进程一 --> 55896   15\n",
      "进程三 --> 55898   15\n",
      "进程一 --> 55896   16\n",
      "进程三 --> 55898   16\n",
      "进程二 --> 55897   16\n",
      "进程二 --> 55897   17\n",
      "进程一 --> 55896   17\n",
      "进程三 --> 55898   17\n",
      "进程三 --> 55898   18\n",
      "进程二 --> 55897   18\n",
      "进程一 --> 55896   18\n",
      "进程二 --> 55897   19\n",
      "进程三 --> 55898   19\n",
      "进程一 --> 55896   19\n",
      "进程二 --> 55897   20\n",
      "进程三 --> 55898   20\n",
      "进程一 --> 55896   20\n",
      "进程二 --> 55897   21\n",
      "进程三 --> 55898   21\n",
      "进程一 --> 55896   21\n",
      "进程二 --> 55897   22\n",
      "进程三 --> 55898   22\n",
      "进程一 --> 55896   22\n",
      "进程一 --> 55896   23\n",
      "进程二 --> 55897   23\n",
      "进程三 --> 55898   23\n",
      "进程二 --> 55897   24\n",
      "进程一 --> 55896   24\n",
      "进程三 --> 55898   24\n",
      "进程二 --> 55897   25\n",
      "进程三 --> 55898   25\n",
      "进程一 --> 55896   25\n",
      "进程一 --> 55896   26\n",
      "进程二 --> 55897   26\n",
      "进程三 --> 55898   26\n",
      "进程二 --> 55897   27\n",
      "进程三 --> 55898   27\n",
      "进程一 --> 55896   27\n",
      "进程三 --> 55898   28\n",
      "进程二 --> 55897   28\n",
      "进程一 --> 55896   28\n",
      "进程二 --> 55897   29\n",
      "进程一 --> 55896   29\n",
      "进程三 --> 55898   29\n",
      "进程二 --> 55897   30\n",
      "进程三 --> 55898   30\n",
      "进程一 --> 55896   30\n",
      "进程二 --> 55897   31\n",
      "进程一 --> 55896   31\n",
      "进程三 --> 55898   31\n",
      "进程三 --> 55898   32\n",
      "进程二 --> 55897   32\n",
      "进程一 --> 55896   32\n",
      "进程一 --> 55896   33\n",
      "进程三 --> 55898   33\n",
      "进程二 --> 55897   33\n",
      "进程二 --> 55897   34\n",
      "进程一 --> 55896   34\n",
      "进程三 --> 55898   34\n",
      "进程一 --> 55896   35\n",
      "进程二 --> 55897   35\n",
      "进程三 --> 55898   35\n",
      "进程一 --> 55896   36\n",
      "进程二 --> 55897   36\n",
      "进程三 --> 55898   36\n",
      "进程一 --> 55896   37\n",
      "进程二 --> 55897   37\n",
      "进程三 --> 55898   37\n",
      "进程三 --> 55898   38\n",
      "进程一 --> 55896   38\n",
      "进程二 --> 55897   38\n",
      "进程三 --> 55898   39\n",
      "进程二 --> 55897   39\n",
      "进程一 --> 55896   39\n",
      "进程二 --> 55897   40\n",
      "进程三 --> 55898   40\n",
      "进程一 --> 55896   40\n",
      "进程三 --> 55898   41\n",
      "进程二 --> 55897   41\n",
      "进程一 --> 55896   41\n",
      "进程三 --> 55898   42\n",
      "进程二 --> 55897   42\n",
      "进程一 --> 55896   42\n",
      "进程三 --> 55898   43\n",
      "进程二 --> 55897   43\n",
      "进程一 --> 55896   43\n",
      "进程三 --> 55898   44\n",
      "进程二 --> 55897   44\n",
      "进程一 --> 55896   44\n",
      "进程三 --> 55898   45\n",
      "进程一 --> 55896   45\n",
      "进程二 --> 55897   45\n",
      "进程一 --> 55896   46\n",
      "进程三 --> 55898   46\n",
      "进程二 --> 55897   46\n",
      "进程一 --> 55896   47\n",
      "进程二 --> 55897   47\n",
      "进程三 --> 55898   47\n",
      "进程二 --> 55897   48\n",
      "进程一 --> 55896   48\n",
      "进程三 --> 55898   48\n",
      "进程二 --> 55897   49\n",
      "进程三 --> 55898   49\n",
      "进程一 --> 55896   49\n",
      "进程三 --> 55898   50\n",
      "进程三 --> 55898   51\n",
      "进程三 --> 55898   52\n",
      "进程三 --> 55898   53\n",
      "进程三 --> 55898   54\n",
      "进程三 --> 55898   55\n",
      "进程三 --> 55898   56\n",
      "进程三 --> 55898   57\n",
      "进程三 --> 55898   58\n",
      "进程三 --> 55898   59\n",
      "比如说这最后的一行输出就是主进程执行任务打印出来的\n"
     ]
    }
   ],
   "source": [
    "# 进程池批量创建子进程\n",
    "from multiprocessing import Pool\n",
    "import time\n",
    "import os\n",
    "\n",
    "\n",
    "def action1(a, b=50):\n",
    "    for i in range(b):\n",
    "        print(a, \"-->\", os.getpid(), \" \", i)\n",
    "        time.sleep(0.1)\n",
    "\n",
    "\n",
    "if __name__ == \"__main__\":  # 还要添加这行，否则可能出现异常\n",
    "\n",
    "    ci = Pool(3)  # 创建一个进程池，容量为3个进程\n",
    "    ci.apply_async(action1, args=(\"进程一\",))  # 启动第一个子进程...\n",
    "    ci.apply_async(action1, args=(\"进程二\",))  # 和普通进程的启动方式有很大不同仔细看\n",
    "    ci.apply_async(action1, args=(\"进程三\", 60))  # Pool的最基本格式记住←\n",
    "    # 注意：程序现在有4个进程在运行：上面的三个子进程 和一个最为核心的：主进程\n",
    "\n",
    "    ci.close()  # 关闭进程池（但池子内已启动的子进程还会继续进行）\n",
    "    ci.join()  # 等待进程池内的所有子进程完毕\n",
    "    print(\"比如说这最后的一行输出就是主进程执行任务打印出来的\")\n",
    "\n",
    "##主进程（父进程）全程干了什么？创建进程池、启动子进程、关闭进程池、等待子进程完毕、打印最后一行"
   ]
  },
  {
   "cell_type": "code",
   "execution_count": 20,
   "metadata": {
    "Collapsed": "false"
   },
   "outputs": [
    {
     "name": "stdout",
     "output_type": "stream",
     "text": [
      "主进程准备发送数据...\n",
      "子进程已收到数据...\n",
      "有内鬼，终止交易！\n"
     ]
    }
   ],
   "source": [
    "# 进程间的通信\n",
    "from multiprocessing import Queue, Process\n",
    "\n",
    "\n",
    "def foo(queue):\n",
    "    ss = queue.get()  # 管子的另一端放在子进程这里，子进程接收到了数据\n",
    "    print(\"子进程已收到数据...\")\n",
    "    print(ss)  # 子进程打印出了数据内容...\n",
    "\n",
    "\n",
    "if __name__ == \"__main__\":\n",
    "    queue = Queue()  # 创建进程通信的Queue，你可以理解为我拿了个管子来...\n",
    "    p = Process(target=foo, args=(queue,))  # 创建子进程\n",
    "\n",
    "    print(\"主进程准备发送数据...\")\n",
    "    queue.put(\"有内鬼，终止交易！\")  # 将管子的一端放在主进程这里，主进程往管子里丢入数据↑\n",
    "    p.start()  # 启动子进程\n",
    "\n",
    "    p.join()"
   ]
  },
  {
   "cell_type": "code",
   "execution_count": null,
   "metadata": {
    "Collapsed": "false"
   },
   "outputs": [],
   "source": []
  }
 ],
 "metadata": {
  "kernelspec": {
   "display_name": "PyCharm (Code)",
   "language": "python",
   "name": "pycharm-6c12d93e"
  },
  "language_info": {
   "codemirror_mode": {
    "name": "ipython",
    "version": 3
   },
   "file_extension": ".py",
   "mimetype": "text/x-python",
   "name": "python",
   "nbconvert_exporter": "python",
   "pygments_lexer": "ipython3",
   "version": "3.7.4"
  },
  "pycharm": {
   "stem_cell": {
    "cell_type": "raw",
    "metadata": {
     "collapsed": false
    },
    "source": []
   }
  },
  "toc-autonumbering": true,
  "toc-showcode": false,
  "toc-showmarkdowntxt": false,
  "toc-showtags": false
 },
 "nbformat": 4,
 "nbformat_minor": 4
}
