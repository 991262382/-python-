{
 "cells": [
  {
   "cell_type": "code",
   "execution_count": 19,
   "metadata": {
    "collapsed": true,
    "jupyter": {
     "outputs_hidden": true
    }
   },
   "outputs": [
    {
     "name": "stdout",
     "output_type": "stream",
     "text": [
      "yyzhu:100\n",
      "18\n"
     ]
    },
    {
     "ename": "AttributeError",
     "evalue": "'Student' object has no attribute 'age'",
     "output_type": "error",
     "traceback": [
      "\u001b[0;31m---------------------------------------------------------------------------\u001b[0m",
      "\u001b[0;31mAttributeError\u001b[0m                            Traceback (most recent call last)",
      "\u001b[0;32m<ipython-input-19-83523ea4787b>\u001b[0m in \u001b[0;36m<module>\u001b[0;34m\u001b[0m\n\u001b[1;32m     16\u001b[0m \u001b[0mprint\u001b[0m\u001b[0;34m(\u001b[0m\u001b[0ma\u001b[0m\u001b[0;34m)\u001b[0m\u001b[0;34m\u001b[0m\u001b[0;34m\u001b[0m\u001b[0m\n\u001b[1;32m     17\u001b[0m \u001b[0mprint\u001b[0m\u001b[0;34m(\u001b[0m\u001b[0ma\u001b[0m\u001b[0;34m.\u001b[0m\u001b[0mage\u001b[0m\u001b[0;34m)\u001b[0m\u001b[0;34m\u001b[0m\u001b[0;34m\u001b[0m\u001b[0m\n\u001b[0;32m---> 18\u001b[0;31m \u001b[0mprint\u001b[0m\u001b[0;34m(\u001b[0m\u001b[0mb\u001b[0m\u001b[0;34m.\u001b[0m\u001b[0mage\u001b[0m\u001b[0;34m)\u001b[0m\u001b[0;34m\u001b[0m\u001b[0;34m\u001b[0m\u001b[0m\n\u001b[0m",
      "\u001b[0;31mAttributeError\u001b[0m: 'Student' object has no attribute 'age'"
     ]
    }
   ],
   "source": [
    "class Student:\n",
    "    def __init__(self,name,score):\n",
    "        \n",
    "        self.name = name\n",
    "        self.score = score\n",
    "\n",
    "    \n",
    "    def __repr__(self):\n",
    "        return f'{self.name}:{self.score}'\n",
    "a = Student('yyzhu',100)\n",
    "a.age = 18\n",
    "\n",
    "b = Student('fang',80)\n",
    "\n",
    "\n",
    "print(a)\n",
    "print(a.age)\n",
    "print(b.age) #没有定义实例b的age,出错"
   ]
  },
  {
   "cell_type": "code",
   "execution_count": 24,
   "metadata": {},
   "outputs": [
    {
     "name": "stdout",
     "output_type": "stream",
     "text": [
      "Lisa: 99\n",
      "Bart: 58, Level C\n"
     ]
    }
   ],
   "source": [
    "#第一轮\n",
    "class  Student(object):\n",
    "    def __init__(self, name, score):\n",
    "        self.name = name\n",
    "        self.score = score\n",
    "    def print_score(self):\n",
    "        print('%s: %s' % (self.name, self.score))\n",
    "#实例1\n",
    "lisa = Student('Lisa',99)\n",
    "#第二轮\n",
    "class  Student(object):\n",
    "\tdef __init__(self, name, score):\n",
    "\t\tself.name = name\n",
    "\t\tself.score = score\n",
    "\tdef get_grade(self):\n",
    "\t\tif self.score >= 90:\n",
    "\t\t    return 'A'\n",
    "\t\telif self.score >= 60:\n",
    "\t\t    return 'B'\n",
    "\t\telse:\n",
    "\t\t    return 'C'\n",
    "\tdef print_score(self):\n",
    "\t\tprint ('%s: %s, Level %s' % (self.name, self.score,self.get_grade()))\n",
    "\n",
    "#创建实例2\n",
    "bart = Student('Bart',58)\n",
    "\n",
    "#调用函数输出\n",
    "lisa.print_score()\n",
    "bart.print_score()\n"
   ]
  },
  {
   "cell_type": "code",
   "execution_count": 25,
   "metadata": {},
   "outputs": [
    {
     "name": "stdout",
     "output_type": "stream",
     "text": [
      "huahua：69\n"
     ]
    }
   ],
   "source": [
    "class Student(object):\n",
    "\n",
    "    def __init__(self,name,score):\n",
    "\n",
    "        self.name=name\n",
    "\n",
    "        self.score=score\n",
    "\n",
    "    def print_score(self):\n",
    "\n",
    "        print('%s：%s'%(self.name,self.score))\n",
    "\n",
    "bart=Student('huahua',69)\n",
    "\n",
    "bart.print_score()\n",
    "\n"
   ]
  },
  {
   "cell_type": "code",
   "execution_count": null,
   "metadata": {},
   "outputs": [],
   "source": []
  }
 ],
 "metadata": {
  "kernelspec": {
   "display_name": "Python 3",
   "language": "python",
   "name": "python3"
  },
  "language_info": {
   "codemirror_mode": {
    "name": "ipython",
    "version": 3
   },
   "file_extension": ".py",
   "mimetype": "text/x-python",
   "name": "python",
   "nbconvert_exporter": "python",
   "pygments_lexer": "ipython3",
   "version": "3.7.5"
  }
 },
 "nbformat": 4,
 "nbformat_minor": 4
}
