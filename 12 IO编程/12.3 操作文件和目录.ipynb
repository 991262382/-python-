{
 "cells": [
  {
   "cell_type": "code",
   "execution_count": 1,
   "metadata": {
    "Collapsed": "false",
    "collapsed": true,
    "jupyter": {
     "outputs_hidden": true
    },
    "pycharm": {
     "is_executing": false
    }
   },
   "outputs": [
    {
     "data": {
      "text/plain": [
       "'posix'"
      ]
     },
     "execution_count": 1,
     "metadata": {},
     "output_type": "execute_result"
    }
   ],
   "source": [
    "import os\n",
    "os.name"
   ]
  },
  {
   "cell_type": "code",
   "execution_count": 2,
   "metadata": {
    "Collapsed": "false",
    "collapsed": false,
    "jupyter": {
     "outputs_hidden": false
    },
    "pycharm": {
     "is_executing": false,
     "name": "#%%\n"
    }
   },
   "outputs": [
    {
     "data": {
      "text/plain": [
       "posix.uname_result(sysname='Darwin', nodename='Mac', release='19.2.0', version='Darwin Kernel Version 19.2.0: Sat Nov  9 03:47:04 PST 2019; root:xnu-6153.61.1~20/RELEASE_X86_64', machine='x86_64')"
      ]
     },
     "execution_count": 2,
     "metadata": {},
     "output_type": "execute_result"
    }
   ],
   "source": [
    "os.uname()"
   ]
  },
  {
   "cell_type": "code",
   "execution_count": 3,
   "metadata": {
    "Collapsed": "false",
    "collapsed": true,
    "jupyter": {
     "outputs_hidden": true
    },
    "pycharm": {
     "is_executing": false,
     "name": "#%%\n"
    }
   },
   "outputs": [
    {
     "data": {
      "text/plain": [
       "environ{'PATH': '/Users/yyzhu/anaconda3/bin:/Users/yyzhu/anaconda3/condabin:/usr/local/opt/icu4c/sbin:/usr/local/opt/icu4c/bin:/usr/local/opt/mysql@5.7/bin:/usr/local/sbin:/Users/yyzhu/.jenv/shims:/Users/yyzhu/.jenv/bin:/Users/yyzhu/anaconda3/bin:/usr/local/bin:/usr/bin:/bin:/usr/sbin:/sbin:/usr/local/share/dotnet:~/.dotnet/tools',\n",
       "        'https_proxy': 'http://127.0.0.1:8110',\n",
       "        'CONDA_DEFAULT_ENV': 'base',\n",
       "        'CONDA_PREFIX': '/Users/yyzhu/anaconda3',\n",
       "        'LOGNAME': 'yyzhu',\n",
       "        'XPC_SERVICE_NAME': 'com.jetbrains.pycharm.1636',\n",
       "        'PWD': '/Users/yyzhu/Documents/Code',\n",
       "        'CONDA_SHLVL': '1',\n",
       "        'http_proxy': 'http://127.0.0.1:8110',\n",
       "        'PYTHONPATH': '/Users/yyzhu/Documents/Code',\n",
       "        'SHELL': '/bin/zsh',\n",
       "        'PAGER': 'cat',\n",
       "        'LSCOLORS': 'Gxfxcxdxbxegedabagacad',\n",
       "        'OLDPWD': '/Applications/PyCharm.app/Contents/bin',\n",
       "        'USER': 'yyzhu',\n",
       "        'ZSH': '/Users/yyzhu/.oh-my-zsh',\n",
       "        'TMPDIR': '/var/folders/7v/w5wzk0y17rvg364qw7z_c0d40000gn/T/',\n",
       "        'SSH_AUTH_SOCK': '/private/tmp/com.apple.launchd.DVoLMPxKET/Listeners',\n",
       "        'XPC_FLAGS': '0x0',\n",
       "        '__CF_USER_TEXT_ENCODING': '0x1F5:0x19:0x34',\n",
       "        'CONDA_PROMPT_MODIFIER': '(base) ',\n",
       "        'LESS': '-R',\n",
       "        'LC_CTYPE': 'UTF-8',\n",
       "        'JENV_SHELL': 'zsh',\n",
       "        'HOME': '/Users/yyzhu',\n",
       "        'JENV_LOADED': '1',\n",
       "        'KERNEL_LAUNCH_TIMEOUT': '40',\n",
       "        'JPY_PARENT_PID': '15239',\n",
       "        'TERM': 'xterm-color',\n",
       "        'CLICOLOR': '1',\n",
       "        'GIT_PAGER': 'cat',\n",
       "        'MPLBACKEND': 'module://ipykernel.pylab.backend_inline'}"
      ]
     },
     "execution_count": 3,
     "metadata": {},
     "output_type": "execute_result"
    }
   ],
   "source": [
    "os.environ"
   ]
  },
  {
   "cell_type": "code",
   "execution_count": 4,
   "metadata": {
    "Collapsed": "false",
    "collapsed": false,
    "jupyter": {
     "outputs_hidden": false
    },
    "pycharm": {
     "is_executing": false,
     "name": "#%%\n"
    }
   },
   "outputs": [
    {
     "data": {
      "text/plain": [
       "'/Users/yyzhu/.oh-my-zsh'"
      ]
     },
     "execution_count": 4,
     "metadata": {},
     "output_type": "execute_result"
    }
   ],
   "source": [
    "os.environ.get('ZSH')"
   ]
  },
  {
   "cell_type": "code",
   "execution_count": 73,
   "metadata": {
    "Collapsed": "false",
    "collapsed": false,
    "jupyter": {
     "outputs_hidden": false
    },
    "pycharm": {
     "is_executing": false,
     "name": "#%%\n"
    }
   },
   "outputs": [
    {
     "data": {
      "text/plain": [
       "'/Users/yyzhu/Documents/Code/廖雪峰python学习/12 IO编程'"
      ]
     },
     "execution_count": 73,
     "metadata": {},
     "output_type": "execute_result"
    }
   ],
   "source": [
    "os.path.abspath('')"
   ]
  },
  {
   "cell_type": "code",
   "execution_count": 61,
   "metadata": {
    "Collapsed": "false",
    "collapsed": false,
    "jupyter": {
     "outputs_hidden": false
    },
    "pycharm": {
     "is_executing": false,
     "name": "#%% 创建目录\n"
    }
   },
   "outputs": [
    {
     "data": {
      "text/plain": [
       "'./testYYZHUdir.name'"
      ]
     },
     "execution_count": 61,
     "metadata": {},
     "output_type": "execute_result"
    }
   ],
   "source": [
    "import os\n",
    "os.path.join('.','testYYZHUdir.name')\n",
    "# os.path.splitext(d)\n"
   ]
  },
  {
   "cell_type": "code",
   "execution_count": 24,
   "metadata": {
    "Collapsed": "false",
    "collapsed": false,
    "jupyter": {
     "outputs_hidden": false
    },
    "pycharm": {
     "is_executing": false,
     "name": "#%%\n"
    }
   },
   "outputs": [
    {
     "data": {
      "text/plain": [
       "('', 'code.txt')"
      ]
     },
     "execution_count": 24,
     "metadata": {},
     "output_type": "execute_result"
    },
    {
     "data": {
      "text/plain": [
       "('/Users/yyzhu/Documents/Code/code', '.txt')"
      ]
     },
     "execution_count": 24,
     "metadata": {},
     "output_type": "execute_result"
    }
   ],
   "source": [
    "os.path.split('code.txt')\n",
    "os.path.splitext('/Users/yyzhu/Documents/Code/code.txt')"
   ]
  },
  {
   "cell_type": "code",
   "execution_count": 2,
   "metadata": {
    "Collapsed": "false",
    "collapsed": false,
    "jupyter": {
     "outputs_hidden": false
    },
    "pycharm": {
     "is_executing": false,
     "name": "#%%\n"
    }
   },
   "outputs": [],
   "source": [
    "os.rmdir(d)"
   ]
  },
  {
   "cell_type": "code",
   "execution_count": 3,
   "metadata": {
    "Collapsed": "false",
    "collapsed": false,
    "jupyter": {
     "outputs_hidden": false
    },
    "pycharm": {
     "is_executing": false,
     "name": "#%%\n"
    }
   },
   "outputs": [
    {
     "data": {
      "text/plain": [
       "['.ipynb_checkpoints']"
      ]
     },
     "execution_count": 3,
     "metadata": {},
     "output_type": "execute_result"
    }
   ],
   "source": [
    "[x for x in os.listdir('.') if os.path.isdir(x)]"
   ]
  },
  {
   "cell_type": "code",
   "execution_count": 13,
   "metadata": {
    "Collapsed": "false",
    "collapsed": false,
    "jupyter": {
     "outputs_hidden": false
    },
    "pycharm": {
     "name": "#%%\n"
    }
   },
   "outputs": [
    {
     "data": {
      "text/plain": [
       "'/Users/yyzhu/Documents/Code/廖雪峰python学习/12 IO编程'"
      ]
     },
     "execution_count": 13,
     "metadata": {},
     "output_type": "execute_result"
    },
    {
     "data": {
      "text/plain": [
       "1056"
      ]
     },
     "execution_count": 13,
     "metadata": {},
     "output_type": "execute_result"
    },
    {
     "data": {
      "text/plain": [
       "'/Users/yyzhu/Documents/Code/廖雪峰python学习'"
      ]
     },
     "execution_count": 13,
     "metadata": {},
     "output_type": "execute_result"
    },
    {
     "data": {
      "text/plain": [
       "'/Users/yyzhu/Documents/Code/廖雪峰python学习'"
      ]
     },
     "execution_count": 13,
     "metadata": {},
     "output_type": "execute_result"
    }
   ],
   "source": [
    "import os\n",
    "os.path.abspath('.')\n",
    "file='/Users/yyzhu/Documents/Code/廖雪峰python学习/' # 文件路径\n",
    "\n",
    "os.path.getsize(file)\n",
    "os.path.abspath(file)\n",
    "os.path.normpath(file)"
   ]
  },
  {
   "cell_type": "code",
   "execution_count": 14,
   "metadata": {
    "Collapsed": "false"
   },
   "outputs": [
    {
     "data": {
      "text/plain": [
       "'/dev/tty'"
      ]
     },
     "execution_count": 14,
     "metadata": {},
     "output_type": "execute_result"
    }
   ],
   "source": [
    "import os\n",
    "os.ctermid()"
   ]
  },
  {
   "cell_type": "code",
   "execution_count": 18,
   "metadata": {
    "Collapsed": "false"
   },
   "outputs": [
    {
     "data": {
      "text/plain": [
       "20"
      ]
     },
     "execution_count": 18,
     "metadata": {},
     "output_type": "execute_result"
    }
   ],
   "source": [
    "os.getgid()"
   ]
  },
  {
   "cell_type": "code",
   "execution_count": 19,
   "metadata": {
    "Collapsed": "false"
   },
   "outputs": [
    {
     "data": {
      "text/plain": [
       "'/'"
      ]
     },
     "execution_count": 19,
     "metadata": {},
     "output_type": "execute_result"
    }
   ],
   "source": [
    "os.sep"
   ]
  },
  {
   "cell_type": "code",
   "execution_count": 42,
   "metadata": {
    "Collapsed": "false"
   },
   "outputs": [
    {
     "name": "stdout",
     "output_type": "stream",
     "text": [
      "/Users/yyzhu/Documents/Code/廖雪峰python学习/12 IO编程/12.2 StringIO and BytesIO.ipynb\n",
      "/Users/yyzhu/Documents/Code/廖雪峰python学习/12 IO编程/test\n",
      "/Users/yyzhu/Documents/Code/廖雪峰python学习/12 IO编程/test2.txt\n",
      "/Users/yyzhu/Documents/Code/廖雪峰python学习/12 IO编程/12.3 操作文件和目录.ipynb\n",
      "/Users/yyzhu/Documents/Code/廖雪峰python学习/12 IO编程/__init__.py\n",
      "/Users/yyzhu/Documents/Code/廖雪峰python学习/12 IO编程/朱洋洋.JPG\n",
      "/Users/yyzhu/Documents/Code/廖雪峰python学习/12 IO编程/.ipynb_checkpoints/test2-checkpoint.txt\n",
      "/Users/yyzhu/Documents/Code/廖雪峰python学习/12 IO编程/.ipynb_checkpoints/12.3 操作文件和目录-checkpoint.ipynb\n",
      "/Users/yyzhu/Documents/Code/廖雪峰python学习/12 IO编程/.ipynb_checkpoints/12.2 StringIO and BytesIO-checkpoint.ipynb\n",
      "/Users/yyzhu/Documents/Code/廖雪峰python学习/12 IO编程/12.1 文件读写.ipynb\n"
     ]
    }
   ],
   "source": [
    "# 利用os模块编写一个能实现dir -l输出的程序。\n",
    "import os\n",
    "# print(dir(os.path))\n",
    "\n",
    "def dir(Dir):\n",
    "#     print(Dir)\n",
    "    for x in os.listdir(Dir):\n",
    "        if os.path.isdir(x): #判断x是否是目录\n",
    "            nextDir = os.path.join(Dir,x)\n",
    "            dir(nextDir) #输出目录下的所有文件\n",
    "        else:\n",
    "            print(os.path.join(Dir,x))\n",
    "#     for x in os.listdir(Dir):\n",
    "#         print(os.path.join(Dir,x))\n",
    "        \n",
    "Dir = os.path.abspath('.')\n",
    "dir(Dir)"
   ]
  },
  {
   "cell_type": "code",
   "execution_count": 68,
   "metadata": {
    "Collapsed": "false"
   },
   "outputs": [
    {
     "ename": "IndentationError",
     "evalue": "expected an indented block (<ipython-input-68-36cd44091abb>, line 14)",
     "output_type": "error",
     "traceback": [
      "\u001b[0;36m  File \u001b[0;32m\"<ipython-input-68-36cd44091abb>\"\u001b[0;36m, line \u001b[0;32m14\u001b[0m\n\u001b[0;31m    Dir = os.path.abspath('.')\u001b[0m\n\u001b[0m      ^\u001b[0m\n\u001b[0;31mIndentationError\u001b[0m\u001b[0;31m:\u001b[0m expected an indented block\n"
     ]
    }
   ],
   "source": [
    "# 编写一个程序，能在当前目录以及当前目录的所有子目录下查找文件名包含指定字符串的文件，并打印出相对路径。\n",
    "def all_dir(Dir):\n",
    "\n",
    "    for x in os.listdir(Dir):\n",
    "        if os.path.isdir(x): #判断x是否是目录\n",
    "            nextDir = os.path.join(Dir,x)\n",
    "            dir(nextDir) #输出目录下的所有文件\n",
    "        else:\n",
    "            print(os.path.join(Dir,x))\n",
    "\n",
    "def find_file(alldir):\n",
    "    \n",
    "        \n",
    "Dir = os.path.abspath('.')\n",
    "all_dir(Dir)"
   ]
  },
  {
   "cell_type": "code",
   "execution_count": 67,
   "metadata": {
    "Collapsed": "false"
   },
   "outputs": [
    {
     "data": {
      "text/plain": [
       "['12.2 StringIO and BytesIO.ipynb', '12.3 操作文件和目录.ipynb', '12.1 文件读写.ipynb']"
      ]
     },
     "execution_count": 67,
     "metadata": {},
     "output_type": "execute_result"
    }
   ],
   "source": [
    "[x for x in os.listdir('.') if os.path.isfile(x) and os.path.splitext(x)[1]=='.ipynb']"
   ]
  },
  {
   "cell_type": "code",
   "execution_count": 65,
   "metadata": {
    "Collapsed": "false"
   },
   "outputs": [
    {
     "data": {
      "text/plain": [
       "('12.2 StringIO and BytesIO', '.ipynb')"
      ]
     },
     "execution_count": 65,
     "metadata": {},
     "output_type": "execute_result"
    }
   ],
   "source": [
    "os.path.splitext('12.2 StringIO and BytesIO.ipynb')"
   ]
  },
  {
   "cell_type": "code",
   "execution_count": null,
   "metadata": {
    "Collapsed": "false"
   },
   "outputs": [],
   "source": []
  }
 ],
 "metadata": {
  "kernelspec": {
   "display_name": "PyCharm (Code)",
   "language": "python",
   "name": "pycharm-6c12d93e"
  },
  "language_info": {
   "codemirror_mode": {
    "name": "ipython",
    "version": 3
   },
   "file_extension": ".py",
   "mimetype": "text/x-python",
   "name": "python",
   "nbconvert_exporter": "python",
   "pygments_lexer": "ipython3",
   "version": "3.7.4"
  },
  "pycharm": {
   "stem_cell": {
    "cell_type": "raw",
    "metadata": {
     "collapsed": false
    },
    "source": []
   }
  }
 },
 "nbformat": 4,
 "nbformat_minor": 4
}
