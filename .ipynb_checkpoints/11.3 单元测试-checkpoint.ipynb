{
 "cells": [
  {
   "cell_type": "code",
   "execution_count": 13,
   "metadata": {},
   "outputs": [
    {
     "name": "stderr",
     "output_type": "stream",
     "text": [
      "E\n",
      "======================================================================\n",
      "ERROR: /Users/yyzhu/Library/Jupyter/runtime/kernel-7243d87b-b89d-4e78-859b-9589a0db64df (unittest.loader._FailedTest)\n",
      "----------------------------------------------------------------------\n",
      "AttributeError: module '__main__' has no attribute '/Users/yyzhu/Library/Jupyter/runtime/kernel-7243d87b-b89d-4e78-859b-9589a0db64df'\n",
      "\n",
      "----------------------------------------------------------------------\n",
      "Ran 1 test in 0.001s\n",
      "\n",
      "FAILED (errors=1)\n"
     ]
    },
    {
     "ename": "SystemExit",
     "evalue": "True",
     "output_type": "error",
     "traceback": [
      "An exception has occurred, use %tb to see the full traceback.\n",
      "\u001b[0;31mSystemExit\u001b[0m\u001b[0;31m:\u001b[0m True\n"
     ]
    },
    {
     "name": "stderr",
     "output_type": "stream",
     "text": [
      "/Users/yyzhu/anaconda3/lib/python3.7/site-packages/IPython/core/interactiveshell.py:3327: UserWarning: To exit: use 'exit', 'quit', or Ctrl-D.\n",
      "  warn(\"To exit: use 'exit', 'quit', or Ctrl-D.\", stacklevel=1)\n"
     ]
    }
   ],
   "source": [
    "class Dict(dict):\n",
    "    def __init__(self,**kw):\n",
    "        super().__init__(**kw)\n",
    "    \n",
    "    def __getattr__(self,key):\n",
    "        try:\n",
    "            return self[key]\n",
    "        except KeyError:\n",
    "            raise AttributeError(f'字典对象没有{key}属性')\n",
    "    \n",
    "    def __setattr__(self,key,value):\n",
    "        self[key] = value\n",
    "# d = Dict(a=1,b='test')\n",
    "# d.a\n",
    "# d.b\n",
    "# d.c = 'yyzhu'\n",
    "# d.c\n",
    "\n",
    "import unittest\n",
    "\n",
    "class TestDict(unittest.TestCase):\n",
    "    def test_init(self):\n",
    "        d = Dict(a=1,b='test')\n",
    "        self.assertEqual(d.a,1)\n",
    "        self.assertEqual(d.b,'test')\n",
    "        self.assertTrue(isinstance(d,dict))\n",
    "    \n",
    "    def test_key(self):\n",
    "        d = Dict()\n",
    "        d['key'] = 'value'\n",
    "        self.assertEqual(d.key,'value')\n",
    "    \n",
    "    def test_attr(self):\n",
    "        d = Dict()\n",
    "        d.key = '值'\n",
    "        self.assertTrue('key' in d)\n",
    "        self.assertEqual(d['key'],'值')\n",
    "    \n",
    "    def test_keyerror(self):\n",
    "        d = Dict()\n",
    "        with self.assertRaises(KeyError): #??\n",
    "            value = d['empty'] # 通过d['empty']访问不存在的key时，断言会抛出KeyError\n",
    "    \n",
    "    def test_attrerror(self):\n",
    "        d = Dict()\n",
    "        with self.assertRaises(AttributeError):\n",
    "            value = d.empty #通过d.empty访问不存在的key时，我们期待抛出AttributeError：\n",
    "\n",
    "if __name__ == '__main__':\n",
    "    unittest.main()"
   ]
  },
  {
   "cell_type": "code",
   "execution_count": null,
   "metadata": {},
   "outputs": [],
   "source": []
  }
 ],
 "metadata": {
  "kernelspec": {
   "display_name": "Python 3",
   "language": "python",
   "name": "python3"
  },
  "language_info": {
   "codemirror_mode": {
    "name": "ipython",
    "version": 3
   },
   "file_extension": ".py",
   "mimetype": "text/x-python",
   "name": "python",
   "nbconvert_exporter": "python",
   "pygments_lexer": "ipython3",
   "version": "3.7.5"
  }
 },
 "nbformat": 4,
 "nbformat_minor": 4
}
