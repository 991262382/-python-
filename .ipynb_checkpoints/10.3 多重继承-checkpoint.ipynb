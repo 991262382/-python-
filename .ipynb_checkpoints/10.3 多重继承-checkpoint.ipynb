{
 "cells": [
  {
   "cell_type": "markdown",
   "metadata": {},
   "source": [
    "## 多重继承使用 C3算法"
   ]
  },
  {
   "cell_type": "code",
   "execution_count": 3,
   "metadata": {},
   "outputs": [],
   "source": [
    "class A(object):\n",
    "    def 爸(self):\n",
    "        print('A 爸')\n",
    "    def 妈(self):\n",
    "        print('A 妈')\n",
    "\n",
    "class B(object):\n",
    "    def 爸(self):\n",
    "        print('B 爸')\n",
    "    def 妈(self):\n",
    "        print('B 妈')\n",
    "\n",
    "class C1(A,B):\n",
    "    pass\n",
    "\n",
    "class C2(A,B):\n",
    "    def 妈(self):\n",
    "        print('C2-妈')\n",
    "\n",
    "class D(C1,C2):\n",
    "    pass"
   ]
  },
  {
   "cell_type": "code",
   "execution_count": 4,
   "metadata": {},
   "outputs": [
    {
     "data": {
      "text/plain": [
       "(__main__.D, __main__.C1, __main__.C2, __main__.A, __main__.B, object)"
      ]
     },
     "execution_count": 4,
     "metadata": {},
     "output_type": "execute_result"
    }
   ],
   "source": [
    "D.__mro__"
   ]
  },
  {
   "cell_type": "code",
   "execution_count": 6,
   "metadata": {},
   "outputs": [
    {
     "name": "stdout",
     "output_type": "stream",
     "text": [
      "A 爸\n"
     ]
    }
   ],
   "source": [
    "d = D()\n",
    "d.爸()"
   ]
  },
  {
   "cell_type": "code",
   "execution_count": 7,
   "metadata": {},
   "outputs": [
    {
     "name": "stdout",
     "output_type": "stream",
     "text": [
      "C2-妈\n"
     ]
    }
   ],
   "source": [
    "d.妈(\n",
    ")"
   ]
  },
  {
   "cell_type": "code",
   "execution_count": null,
   "metadata": {},
   "outputs": [],
   "source": []
  }
 ],
 "metadata": {
  "kernelspec": {
   "display_name": "Python 3",
   "language": "python",
   "name": "python3"
  },
  "language_info": {
   "codemirror_mode": {
    "name": "ipython",
    "version": 3
   },
   "file_extension": ".py",
   "mimetype": "text/x-python",
   "name": "python",
   "nbconvert_exporter": "python",
   "pygments_lexer": "ipython3",
   "version": "3.7.5"
  }
 },
 "nbformat": 4,
 "nbformat_minor": 4
}
