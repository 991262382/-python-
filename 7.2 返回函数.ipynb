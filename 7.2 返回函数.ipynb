{
 "cells": [
  {
   "cell_type": "code",
   "execution_count": 17,
   "metadata": {},
   "outputs": [],
   "source": [
    "def lazy_sum(*args):\n",
    "    def sum():\n",
    "        total = 0\n",
    "        for i in args:\n",
    "            total += i\n",
    "        return total\n",
    "    return sum"
   ]
  },
  {
   "cell_type": "code",
   "execution_count": 18,
   "metadata": {},
   "outputs": [
    {
     "name": "stdout",
     "output_type": "stream",
     "text": [
      "<function lazy_sum.<locals>.sum at 0x6320243b0>\n"
     ]
    }
   ],
   "source": [
    "print(lazy_sum(1,2,3,4,5))"
   ]
  },
  {
   "cell_type": "code",
   "execution_count": 19,
   "metadata": {},
   "outputs": [
    {
     "name": "stdout",
     "output_type": "stream",
     "text": [
      "<function lazy_sum.<locals>.sum at 0x632024050>\n"
     ]
    }
   ],
   "source": [
    "f = lazy_sum(1,2,3,4,5)\n",
    "print(f)"
   ]
  },
  {
   "cell_type": "code",
   "execution_count": 20,
   "metadata": {},
   "outputs": [
    {
     "data": {
      "text/plain": [
       "15"
      ]
     },
     "execution_count": 20,
     "metadata": {},
     "output_type": "execute_result"
    }
   ],
   "source": [
    "f()"
   ]
  },
  {
   "cell_type": "code",
   "execution_count": 45,
   "metadata": {},
   "outputs": [
    {
     "name": "stdout",
     "output_type": "stream",
     "text": [
      "<function count.<locals>.<lambda> at 0x631a0bd40>\n",
      "<function count.<locals>.<lambda> at 0x631a0bdd0>\n",
      "<function count.<locals>.<lambda> at 0x631a0b830>\n"
     ]
    }
   ],
   "source": [
    "def count():\n",
    "    f = []\n",
    "    for i in range(1,4):\n",
    "        f.append(lambda :i**2)\n",
    "    return f\n",
    "\n",
    "f1,f2,f3 = count()\n",
    "print(f1,f2,f3,sep='\\n')"
   ]
  },
  {
   "cell_type": "code",
   "execution_count": 33,
   "metadata": {},
   "outputs": [
    {
     "data": {
      "text/plain": [
       "(9, 9, 9)"
      ]
     },
     "execution_count": 33,
     "metadata": {},
     "output_type": "execute_result"
    }
   ],
   "source": [
    "f1(),f2(),f3()"
   ]
  },
  {
   "cell_type": "code",
   "execution_count": 40,
   "metadata": {},
   "outputs": [],
   "source": [
    "def count():\n",
    "    def fs(i):\n",
    "        def g():\n",
    "            return i**2\n",
    "        return g\n",
    "    f = []\n",
    "    for i in range(1,4):\n",
    "        f.append(fs(i)) #fs(i)被立刻执行，因此i的值得以保存\n",
    "    return f\n",
    "\n",
    "f1,f2,f3 = count()"
   ]
  },
  {
   "cell_type": "code",
   "execution_count": 43,
   "metadata": {},
   "outputs": [
    {
     "name": "stdout",
     "output_type": "stream",
     "text": [
      "<function count.<locals>.fs.<locals>.g at 0x631a0b440>\n",
      "<function count.<locals>.fs.<locals>.g at 0x631a0b050>\n",
      "<function count.<locals>.fs.<locals>.g at 0x631a0b3b0>\n"
     ]
    }
   ],
   "source": [
    "print(f1,f2,f3,sep='\\n')"
   ]
  },
  {
   "cell_type": "code",
   "execution_count": 44,
   "metadata": {},
   "outputs": [
    {
     "data": {
      "text/plain": [
       "(1, 4, 9)"
      ]
     },
     "execution_count": 44,
     "metadata": {},
     "output_type": "execute_result"
    }
   ],
   "source": [
    "f1(),f2(),f3()"
   ]
  },
  {
   "cell_type": "code",
   "execution_count": 36,
   "metadata": {},
   "outputs": [
    {
     "data": {
      "text/plain": [
       "(1, 2, 3)"
      ]
     },
     "execution_count": 36,
     "metadata": {},
     "output_type": "execute_result"
    }
   ],
   "source": [
    "a,b,c = [1,2,3]\n",
    "a,b,c"
   ]
  },
  {
   "cell_type": "markdown",
   "metadata": {},
   "source": [
    "### 利用闭包返回一个计数器函数，每次调用它返回递增整数："
   ]
  },
  {
   "cell_type": "code",
   "execution_count": 60,
   "metadata": {},
   "outputs": [
    {
     "name": "stdout",
     "output_type": "stream",
     "text": [
      "1 2 3 4 5\n",
      "测试通过!\n"
     ]
    }
   ],
   "source": [
    "def createCounter():  \n",
    "    lis = [i for i in range(1,100)]\n",
    "    def counter():        \n",
    "        def cnt():            \n",
    "            return lis.pop(0)\n",
    "        return cnt()\n",
    "    return counter\n",
    "\n",
    "# 测试:\n",
    "counterA = createCounter()\n",
    "print(counterA(), counterA(), counterA(), counterA(), counterA()) # 1 2 3 4 5\n",
    "counterB = createCounter()\n",
    "if [counterB(), counterB(), counterB(), counterB()] == [1, 2, 3, 4]:\n",
    "    print('测试通过!')\n",
    "else:\n",
    "    print('测试失败!')"
   ]
  },
  {
   "cell_type": "code",
   "execution_count": 68,
   "metadata": {},
   "outputs": [
    {
     "name": "stdout",
     "output_type": "stream",
     "text": [
      "1 2 3 4 5\n",
      "测试通过!\n"
     ]
    }
   ],
   "source": [
    "def createCounter():\n",
    "    def cnt():\n",
    "        n = 1\n",
    "        while True:\n",
    "            yield n\n",
    "            n += 1\n",
    "    f = cnt()\n",
    "    def counter(): #\n",
    "        return next(f)\n",
    "    return counter\n",
    "\n",
    "# 测试:\n",
    "counterA = createCounter()\n",
    "print(counterA(), counterA(), counterA(), counterA(), counterA()) # 1 2 3 4 5\n",
    "counterB = createCounter()\n",
    "if [counterB(), counterB(), counterB(), counterB()] == [1, 2, 3, 4]:\n",
    "    print('测试通过!')\n",
    "else:\n",
    "    print('测试失败!')"
   ]
  },
  {
   "cell_type": "code",
   "execution_count": 65,
   "metadata": {},
   "outputs": [
    {
     "data": {
      "text/plain": [
       "1"
      ]
     },
     "execution_count": 65,
     "metadata": {},
     "output_type": "execute_result"
    }
   ],
   "source": [
    "def cnt():\n",
    "        n = 1\n",
    "        while True:\n",
    "            yield n\n",
    "            n += 1\n",
    "f = cnt()\n",
    "next(f)"
   ]
  },
  {
   "cell_type": "code",
   "execution_count": 66,
   "metadata": {},
   "outputs": [
    {
     "data": {
      "text/plain": [
       "2"
      ]
     },
     "execution_count": 66,
     "metadata": {},
     "output_type": "execute_result"
    }
   ],
   "source": [
    "next(f)"
   ]
  },
  {
   "cell_type": "code",
   "execution_count": null,
   "metadata": {},
   "outputs": [],
   "source": []
  }
 ],
 "metadata": {
  "kernelspec": {
   "display_name": "Python 3",
   "language": "python",
   "name": "python3"
  },
  "language_info": {
   "codemirror_mode": {
    "name": "ipython",
    "version": 3
   },
   "file_extension": ".py",
   "mimetype": "text/x-python",
   "name": "python",
   "nbconvert_exporter": "python",
   "pygments_lexer": "ipython3",
   "version": "3.7.5"
  }
 },
 "nbformat": 4,
 "nbformat_minor": 4
}
