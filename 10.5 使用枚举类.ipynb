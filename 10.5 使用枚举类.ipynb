{
 "cells": [
  {
   "cell_type": "code",
   "execution_count": 6,
   "metadata": {},
   "outputs": [],
   "source": [
    "from enum import Enum\n",
    "Month = Enum('Month',\n",
    "            (\n",
    "            '一月',\n",
    "            '二月', #每个常量都是class的一个实例\n",
    "            '三月',\n",
    "            '四月',\n",
    "            '五月',\n",
    "            '六月',\n",
    "            '七月',\n",
    "            '八月',\n",
    "            '九月',\n",
    "            '十月',\n",
    "            '十一月',\n",
    "            '十二月'\n",
    "            ))"
   ]
  },
  {
   "cell_type": "code",
   "execution_count": 8,
   "metadata": {},
   "outputs": [
    {
     "data": {
      "text/plain": [
       "<Month.一月: 1>"
      ]
     },
     "execution_count": 8,
     "metadata": {},
     "output_type": "execute_result"
    },
    {
     "name": "stdout",
     "output_type": "stream",
     "text": [
      "Month.一月\n"
     ]
    }
   ],
   "source": [
    "Month.一月\n",
    "print(Month.一月)"
   ]
  },
  {
   "cell_type": "code",
   "execution_count": 13,
   "metadata": {},
   "outputs": [
    {
     "data": {
      "text/plain": [
       "[('一月', <Month.一月: 1>),\n",
       " ('二月', <Month.二月: 2>),\n",
       " ('三月', <Month.三月: 3>),\n",
       " ('四月', <Month.四月: 4>),\n",
       " ('五月', <Month.五月: 5>),\n",
       " ('六月', <Month.六月: 6>),\n",
       " ('七月', <Month.七月: 7>),\n",
       " ('八月', <Month.八月: 8>),\n",
       " ('九月', <Month.九月: 9>),\n",
       " ('十月', <Month.十月: 10>),\n",
       " ('十一月', <Month.十一月: 11>),\n",
       " ('十二月', <Month.十二月: 12>)]"
      ]
     },
     "execution_count": 13,
     "metadata": {},
     "output_type": "execute_result"
    }
   ],
   "source": [
    "list(Month.__members__.items())\n"
   ]
  },
  {
   "cell_type": "code",
   "execution_count": 15,
   "metadata": {},
   "outputs": [
    {
     "name": "stdout",
     "output_type": "stream",
     "text": [
      "一月==>>>1\n",
      "二月==>>>2\n",
      "三月==>>>3\n",
      "四月==>>>4\n",
      "五月==>>>5\n",
      "六月==>>>6\n",
      "七月==>>>7\n",
      "八月==>>>8\n",
      "九月==>>>9\n",
      "十月==>>>10\n",
      "十一月==>>>11\n",
      "十二月==>>>12\n"
     ]
    }
   ],
   "source": [
    "for name,member in Month.__members__.items():\n",
    "    print(f'{name}==>>>{member.value}')"
   ]
  },
  {
   "cell_type": "code",
   "execution_count": 23,
   "metadata": {},
   "outputs": [
    {
     "data": {
      "text/plain": [
       "<Weekday.SUN: 0>"
      ]
     },
     "execution_count": 23,
     "metadata": {},
     "output_type": "execute_result"
    },
    {
     "data": {
      "text/plain": [
       "<Weekday.TUE: 2>"
      ]
     },
     "execution_count": 23,
     "metadata": {},
     "output_type": "execute_result"
    },
    {
     "data": {
      "text/plain": [
       "<Weekday.TUE: 2>"
      ]
     },
     "execution_count": 23,
     "metadata": {},
     "output_type": "execute_result"
    },
    {
     "name": "stdout",
     "output_type": "stream",
     "text": [
      "SUN => Weekday.SUN\n",
      "MON => Weekday.MON\n",
      "TUE => Weekday.TUE\n",
      "WEN => Weekday.WEN\n",
      "TUR => Weekday.TUR\n",
      "FRI => Weekday.FRI\n",
      "SAT => Weekday.SAT\n"
     ]
    }
   ],
   "source": [
    "## 从enum派生出自定义类\n",
    "from enum import Enum,unique\n",
    "@unique # 检查有没有重复值\n",
    "class Weekday(Enum):\n",
    "    SUN = 0\n",
    "    MON = 1\n",
    "    TUE = 2\n",
    "    WEN = 3\n",
    "    TUR = 4\n",
    "    FRI = 5\n",
    "    SAT = 6\n",
    "\n",
    "day1 = Weekday.SUN\n",
    "day1\n",
    "Weekday['TUE']\n",
    "Weekday(2)\n",
    "\n",
    "for name,member in Weekday.__members__.items():\n",
    "    print(f'{name} => {member}')"
   ]
  },
  {
   "cell_type": "code",
   "execution_count": null,
   "metadata": {},
   "outputs": [],
   "source": []
  },
  {
   "cell_type": "code",
   "execution_count": 5,
   "metadata": {},
   "outputs": [
    {
     "data": {
      "text/plain": [
       "\u001b[0;31mInit signature:\u001b[0m \u001b[0mEnum\u001b[0m\u001b[0;34m(\u001b[0m\u001b[0mvalue\u001b[0m\u001b[0;34m,\u001b[0m \u001b[0mnames\u001b[0m\u001b[0;34m=\u001b[0m\u001b[0;32mNone\u001b[0m\u001b[0;34m,\u001b[0m \u001b[0;34m*\u001b[0m\u001b[0;34m,\u001b[0m \u001b[0mmodule\u001b[0m\u001b[0;34m=\u001b[0m\u001b[0;32mNone\u001b[0m\u001b[0;34m,\u001b[0m \u001b[0mqualname\u001b[0m\u001b[0;34m=\u001b[0m\u001b[0;32mNone\u001b[0m\u001b[0;34m,\u001b[0m \u001b[0mtype\u001b[0m\u001b[0;34m=\u001b[0m\u001b[0;32mNone\u001b[0m\u001b[0;34m,\u001b[0m \u001b[0mstart\u001b[0m\u001b[0;34m=\u001b[0m\u001b[0;36m1\u001b[0m\u001b[0;34m)\u001b[0m\u001b[0;34m\u001b[0m\u001b[0;34m\u001b[0m\u001b[0m\n",
       "\u001b[0;31mDocstring:\u001b[0m     \n",
       "Generic enumeration.\n",
       "\n",
       "Derive from this class to define new enumerations.\n",
       "\u001b[0;31mFile:\u001b[0m           ~/anaconda3/lib/python3.7/enum.py\n",
       "\u001b[0;31mType:\u001b[0m           EnumMeta\n",
       "\u001b[0;31mSubclasses:\u001b[0m     IntEnum, Flag, Purpose, _SendfileMode, SortKey, SafeUUID, PlistFormat, DviState, VariableSynchronization, VariableAggregationV2, ...\n"
      ]
     },
     "metadata": {},
     "output_type": "display_data"
    }
   ],
   "source": [
    "Enum?"
   ]
  },
  {
   "cell_type": "code",
   "execution_count": 31,
   "metadata": {},
   "outputs": [
    {
     "name": "stdout",
     "output_type": "stream",
     "text": [
      "Gender.Male\n",
      "Gender.Male\n"
     ]
    }
   ],
   "source": [
    "## 把Student的gender属性改造为枚举类型，可以避免使用字符串：\n",
    "from enum import Enum, unique\n",
    "\n",
    "class Gender(Enum):\n",
    "    Male = 0\n",
    "    Female = 1\n",
    "\n",
    "class Student(object):\n",
    "    def __init__(self, name, gender):\n",
    "        self.name = name\n",
    "        self.gender = gender\n",
    "\n",
    "print(Gender.Male)\n",
    "\n",
    "bart = Student('Bart', Gender.Male)\n",
    "print(bart.gender)\n"
   ]
  },
  {
   "cell_type": "markdown",
   "metadata": {},
   "source": [
    "### https://segmentfault.com/a/1190000017327003 内容如下"
   ]
  },
  {
   "cell_type": "code",
   "execution_count": 35,
   "metadata": {},
   "outputs": [
    {
     "data": {
      "text/plain": [
       "<Color.red: 1>"
      ]
     },
     "execution_count": 35,
     "metadata": {},
     "output_type": "execute_result"
    },
    {
     "name": "stdout",
     "output_type": "stream",
     "text": [
      "<Color.red: 1>\n",
      "Color.red\n"
     ]
    },
    {
     "data": {
      "text/plain": [
       "<enum 'Color'>"
      ]
     },
     "execution_count": 35,
     "metadata": {},
     "output_type": "execute_result"
    }
   ],
   "source": [
    "from enum import Enum\n",
    "class Color(Enum): #定义枚举时成员变量不许重复，但值可以重复(引入@unique则值不允许重复)\n",
    "    red = 1\n",
    "    green = 2\n",
    "    blue = 3\n",
    "\n",
    "Color.red\n",
    "print(repr(Color.red))\n",
    "print(Color.red)\n",
    "type(Color.red)"
   ]
  },
  {
   "cell_type": "code",
   "execution_count": 37,
   "metadata": {},
   "outputs": [
    {
     "data": {
      "text/plain": [
       "<Color.red: 1>"
      ]
     },
     "execution_count": 37,
     "metadata": {},
     "output_type": "execute_result"
    },
    {
     "data": {
      "text/plain": [
       "<Color.red: 1>"
      ]
     },
     "execution_count": 37,
     "metadata": {},
     "output_type": "execute_result"
    }
   ],
   "source": [
    "Color['red']\n",
    "Color(1)"
   ]
  },
  {
   "cell_type": "code",
   "execution_count": 38,
   "metadata": {},
   "outputs": [
    {
     "data": {
      "text/plain": [
       "1"
      ]
     },
     "execution_count": 38,
     "metadata": {},
     "output_type": "execute_result"
    },
    {
     "data": {
      "text/plain": [
       "'red'"
      ]
     },
     "execution_count": 38,
     "metadata": {},
     "output_type": "execute_result"
    }
   ],
   "source": [
    "member = Color.red\n",
    "member.value\n",
    "member.name"
   ]
  },
  {
   "cell_type": "code",
   "execution_count": 39,
   "metadata": {},
   "outputs": [
    {
     "name": "stdout",
     "output_type": "stream",
     "text": [
      "Color.red\n",
      "Color.green\n",
      "Color.blue\n"
     ]
    }
   ],
   "source": [
    "for c in Color:\n",
    "    print(c)"
   ]
  },
  {
   "cell_type": "code",
   "execution_count": null,
   "metadata": {},
   "outputs": [],
   "source": []
  },
  {
   "cell_type": "code",
   "execution_count": null,
   "metadata": {},
   "outputs": [],
   "source": []
  }
 ],
 "metadata": {
  "kernelspec": {
   "display_name": "Python 3",
   "language": "python",
   "name": "python3"
  },
  "language_info": {
   "codemirror_mode": {
    "name": "ipython",
    "version": 3
   },
   "file_extension": ".py",
   "mimetype": "text/x-python",
   "name": "python",
   "nbconvert_exporter": "python",
   "pygments_lexer": "ipython3",
   "version": "3.7.5"
  }
 },
 "nbformat": 4,
 "nbformat_minor": 4
}
